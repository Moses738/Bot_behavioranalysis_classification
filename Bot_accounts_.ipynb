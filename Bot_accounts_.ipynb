{
 "cells": [
  {
   "cell_type": "markdown",
   "metadata": {
    "id": "OBwznsnzD_mz"
   },
   "source": [
    "The data in question was created using a tool called the \"Faker\" library, which is a software library that generates fake data that looks like real data. This means that the data is not actually real data that was collected from the real world.\n",
    "\n",
    "In recent years, there have been reports of people using automated programs (called \"bots\") to manipulate the results of data science competitions. To try and prevent this from happening, some people came up with the idea to create a simulated dataset. This means that the data was intentionally created to look like real data, but it was not actually collected from the real world.\n",
    "\n",
    "This is the first time that this simulated dataset has been created, and the creators are looking for feedback and suggestions on how to improve it. They want to make sure that the data is high quality and meaningful for people who want to use it for research or other purposes."
   ]
  },
  {
   "cell_type": "markdown",
   "metadata": {
    "id": "MWfquiReD_m3"
   },
   "source": [
    "NAME: The name of the individual.\\\n",
    "GENDER: The gender of the individual, either male or female.\\\n",
    "EMAIL_ID: The email address of the individual.\\\n",
    "IS_GLOGIN: A boolean indicating whether the individual used Google login to register or not.\\\n",
    "FOLLOWER_COUNT: The number of followers the individual has.\\\n",
    "FOLLOWING_COUNT: The number of individuals the individual is following.\\\n",
    "DATASET_COUNT: The number of datasets the individual has created.\\\n",
    "CODE_COUNT: The number of notebooks the individual has created.\\\n",
    "DISCUSSION_COUNT: The number of discussions the individual has participated in.\\\n",
    "AVG_NB_READ_TIME_MIN: The average time spent reading notebooks in minutes.\\\n",
    "REGISTRATION_IPV4: The IP address used to register.\\\n",
    "REGISTRATION_LOCATION: The location from where the individual registered.\\\n",
    "TOTAL_VOTES_GAVE_NB: The total number of votes the individual has given to notebooks.\\\n",
    "TOTAL_VOTES_GAVE_DS: The total number of votes the individual has given to datasets.\\\n",
    "TOTAL_VOTES_GAVE_DC: The total number of votes the individual has given to discussion comments.\\\n",
    "ISBOT: A boolean indicating whether the individual is a bot or not."
   ]
  },
  {
   "cell_type": "code",
   "execution_count": 2,
   "metadata": {
    "id": "NpJLQpR-D_m4"
   },
   "outputs": [],
   "source": [
    "import pandas as pd\n",
    "import numpy as np\n",
    "import matplotlib.pyplot as plt\n",
    "import seaborn as sns\n",
    "import warnings\n",
    "warnings.filterwarnings('ignore')"
   ]
  },
  {
   "cell_type": "markdown",
   "metadata": {
    "id": "5dOIr-yAKnyU"
   },
   "source": [
    "### Loading Dataset"
   ]
  },
  {
   "cell_type": "code",
   "execution_count": 3,
   "metadata": {
    "id": "rRJ4BiR0D_m7"
   },
   "outputs": [],
   "source": [
    "df=pd.read_csv(r'C:\\Users\\DELL\\Desktop\\Moses K\\bot_analysis\\Data/kaggle_bot_accounts.csv')"
   ]
  },
  {
   "cell_type": "code",
   "execution_count": 22,
   "metadata": {
    "colab": {
     "base_uri": "https://localhost:8080/",
     "height": 357
    },
    "id": "rH8T2SsqD_m7",
    "outputId": "fc3b585c-58d9-4065-b83e-56a161b07477"
   },
   "outputs": [
    {
     "data": {
      "text/html": [
       "\n",
       "  <div id=\"df-44fec970-09cd-41f5-a3be-fc100ab0f2f6\">\n",
       "    <div class=\"colab-df-container\">\n",
       "      <div>\n",
       "<style scoped>\n",
       "    .dataframe tbody tr th:only-of-type {\n",
       "        vertical-align: middle;\n",
       "    }\n",
       "\n",
       "    .dataframe tbody tr th {\n",
       "        vertical-align: top;\n",
       "    }\n",
       "\n",
       "    .dataframe thead th {\n",
       "        text-align: right;\n",
       "    }\n",
       "</style>\n",
       "<table border=\"1\" class=\"dataframe\">\n",
       "  <thead>\n",
       "    <tr style=\"text-align: right;\">\n",
       "      <th></th>\n",
       "      <th>Unnamed: 0</th>\n",
       "      <th>NAME</th>\n",
       "      <th>GENDER</th>\n",
       "      <th>EMAIL_ID</th>\n",
       "      <th>IS_GLOGIN</th>\n",
       "      <th>FOLLOWER_COUNT</th>\n",
       "      <th>FOLLOWING_COUNT</th>\n",
       "      <th>DATASET_COUNT</th>\n",
       "      <th>CODE_COUNT</th>\n",
       "      <th>DISCUSSION_COUNT</th>\n",
       "      <th>AVG_NB_READ_TIME_MIN</th>\n",
       "      <th>REGISTRATION_IPV4</th>\n",
       "      <th>REGISTRATION_LOCATION</th>\n",
       "      <th>TOTAL_VOTES_GAVE_NB</th>\n",
       "      <th>TOTAL_VOTES_GAVE_DS</th>\n",
       "      <th>TOTAL_VOTES_GAVE_DC</th>\n",
       "      <th>ISBOT</th>\n",
       "    </tr>\n",
       "  </thead>\n",
       "  <tbody>\n",
       "    <tr>\n",
       "      <th>0</th>\n",
       "      <td>0</td>\n",
       "      <td>Johnny KerrThomas</td>\n",
       "      <td>Male</td>\n",
       "      <td>jacksonalan@example.com</td>\n",
       "      <td>False</td>\n",
       "      <td>53.0</td>\n",
       "      <td>87.0</td>\n",
       "      <td>5.0</td>\n",
       "      <td>3.0</td>\n",
       "      <td>124.0</td>\n",
       "      <td>NaN</td>\n",
       "      <td>81.88.75.170</td>\n",
       "      <td>Argentina</td>\n",
       "      <td>16.0</td>\n",
       "      <td>10.0</td>\n",
       "      <td>3.0</td>\n",
       "      <td>NaN</td>\n",
       "    </tr>\n",
       "    <tr>\n",
       "      <th>1</th>\n",
       "      <td>1</td>\n",
       "      <td>Dwayne LarsenLara</td>\n",
       "      <td>Male</td>\n",
       "      <td>calvin80@example.com</td>\n",
       "      <td>True</td>\n",
       "      <td>16.0</td>\n",
       "      <td>67.0</td>\n",
       "      <td>5.0</td>\n",
       "      <td>NaN</td>\n",
       "      <td>26.0</td>\n",
       "      <td>24.97</td>\n",
       "      <td>NaN</td>\n",
       "      <td>New Zealand</td>\n",
       "      <td>14.0</td>\n",
       "      <td>5.0</td>\n",
       "      <td>2.0</td>\n",
       "      <td>NaN</td>\n",
       "    </tr>\n",
       "    <tr>\n",
       "      <th>2</th>\n",
       "      <td>2</td>\n",
       "      <td>NaN</td>\n",
       "      <td>Male</td>\n",
       "      <td>qbrown@example.net</td>\n",
       "      <td>True</td>\n",
       "      <td>44.0</td>\n",
       "      <td>81.0</td>\n",
       "      <td>4.0</td>\n",
       "      <td>17.0</td>\n",
       "      <td>125.0</td>\n",
       "      <td>7.75</td>\n",
       "      <td>159.202.103.178</td>\n",
       "      <td>Costa Rica</td>\n",
       "      <td>16.0</td>\n",
       "      <td>4.0</td>\n",
       "      <td>0.0</td>\n",
       "      <td>False</td>\n",
       "    </tr>\n",
       "    <tr>\n",
       "      <th>3</th>\n",
       "      <td>3</td>\n",
       "      <td>Russell SimmonsPhillips</td>\n",
       "      <td>Male</td>\n",
       "      <td>kimberlywagner@example.com</td>\n",
       "      <td>True</td>\n",
       "      <td>23.0</td>\n",
       "      <td>114.0</td>\n",
       "      <td>5.0</td>\n",
       "      <td>24.0</td>\n",
       "      <td>67.0</td>\n",
       "      <td>13.40</td>\n",
       "      <td>196.11.132.51</td>\n",
       "      <td>Italy</td>\n",
       "      <td>21.0</td>\n",
       "      <td>10.0</td>\n",
       "      <td>1.0</td>\n",
       "      <td>False</td>\n",
       "    </tr>\n",
       "    <tr>\n",
       "      <th>4</th>\n",
       "      <td>4</td>\n",
       "      <td>Jamie WilsonMartinez</td>\n",
       "      <td>Female</td>\n",
       "      <td>shaunbrooks@example.com</td>\n",
       "      <td>False</td>\n",
       "      <td>46.0</td>\n",
       "      <td>112.0</td>\n",
       "      <td>2.0</td>\n",
       "      <td>12.0</td>\n",
       "      <td>63.0</td>\n",
       "      <td>24.83</td>\n",
       "      <td>159.196.199.20</td>\n",
       "      <td>Belgium</td>\n",
       "      <td>10.0</td>\n",
       "      <td>6.0</td>\n",
       "      <td>2.0</td>\n",
       "      <td>False</td>\n",
       "    </tr>\n",
       "  </tbody>\n",
       "</table>\n",
       "</div>\n",
       "      <button class=\"colab-df-convert\" onclick=\"convertToInteractive('df-44fec970-09cd-41f5-a3be-fc100ab0f2f6')\"\n",
       "              title=\"Convert this dataframe to an interactive table.\"\n",
       "              style=\"display:none;\">\n",
       "        \n",
       "  <svg xmlns=\"http://www.w3.org/2000/svg\" height=\"24px\"viewBox=\"0 0 24 24\"\n",
       "       width=\"24px\">\n",
       "    <path d=\"M0 0h24v24H0V0z\" fill=\"none\"/>\n",
       "    <path d=\"M18.56 5.44l.94 2.06.94-2.06 2.06-.94-2.06-.94-.94-2.06-.94 2.06-2.06.94zm-11 1L8.5 8.5l.94-2.06 2.06-.94-2.06-.94L8.5 2.5l-.94 2.06-2.06.94zm10 10l.94 2.06.94-2.06 2.06-.94-2.06-.94-.94-2.06-.94 2.06-2.06.94z\"/><path d=\"M17.41 7.96l-1.37-1.37c-.4-.4-.92-.59-1.43-.59-.52 0-1.04.2-1.43.59L10.3 9.45l-7.72 7.72c-.78.78-.78 2.05 0 2.83L4 21.41c.39.39.9.59 1.41.59.51 0 1.02-.2 1.41-.59l7.78-7.78 2.81-2.81c.8-.78.8-2.07 0-2.86zM5.41 20L4 18.59l7.72-7.72 1.47 1.35L5.41 20z\"/>\n",
       "  </svg>\n",
       "      </button>\n",
       "      \n",
       "  <style>\n",
       "    .colab-df-container {\n",
       "      display:flex;\n",
       "      flex-wrap:wrap;\n",
       "      gap: 12px;\n",
       "    }\n",
       "\n",
       "    .colab-df-convert {\n",
       "      background-color: #E8F0FE;\n",
       "      border: none;\n",
       "      border-radius: 50%;\n",
       "      cursor: pointer;\n",
       "      display: none;\n",
       "      fill: #1967D2;\n",
       "      height: 32px;\n",
       "      padding: 0 0 0 0;\n",
       "      width: 32px;\n",
       "    }\n",
       "\n",
       "    .colab-df-convert:hover {\n",
       "      background-color: #E2EBFA;\n",
       "      box-shadow: 0px 1px 2px rgba(60, 64, 67, 0.3), 0px 1px 3px 1px rgba(60, 64, 67, 0.15);\n",
       "      fill: #174EA6;\n",
       "    }\n",
       "\n",
       "    [theme=dark] .colab-df-convert {\n",
       "      background-color: #3B4455;\n",
       "      fill: #D2E3FC;\n",
       "    }\n",
       "\n",
       "    [theme=dark] .colab-df-convert:hover {\n",
       "      background-color: #434B5C;\n",
       "      box-shadow: 0px 1px 3px 1px rgba(0, 0, 0, 0.15);\n",
       "      filter: drop-shadow(0px 1px 2px rgba(0, 0, 0, 0.3));\n",
       "      fill: #FFFFFF;\n",
       "    }\n",
       "  </style>\n",
       "\n",
       "      <script>\n",
       "        const buttonEl =\n",
       "          document.querySelector('#df-44fec970-09cd-41f5-a3be-fc100ab0f2f6 button.colab-df-convert');\n",
       "        buttonEl.style.display =\n",
       "          google.colab.kernel.accessAllowed ? 'block' : 'none';\n",
       "\n",
       "        async function convertToInteractive(key) {\n",
       "          const element = document.querySelector('#df-44fec970-09cd-41f5-a3be-fc100ab0f2f6');\n",
       "          const dataTable =\n",
       "            await google.colab.kernel.invokeFunction('convertToInteractive',\n",
       "                                                     [key], {});\n",
       "          if (!dataTable) return;\n",
       "\n",
       "          const docLinkHtml = 'Like what you see? Visit the ' +\n",
       "            '<a target=\"_blank\" href=https://colab.research.google.com/notebooks/data_table.ipynb>data table notebook</a>'\n",
       "            + ' to learn more about interactive tables.';\n",
       "          element.innerHTML = '';\n",
       "          dataTable['output_type'] = 'display_data';\n",
       "          await google.colab.output.renderOutput(dataTable, element);\n",
       "          const docLink = document.createElement('div');\n",
       "          docLink.innerHTML = docLinkHtml;\n",
       "          element.appendChild(docLink);\n",
       "        }\n",
       "      </script>\n",
       "    </div>\n",
       "  </div>\n",
       "  "
      ],
      "text/plain": [
       "   Unnamed: 0                     NAME  GENDER                    EMAIL_ID  \\\n",
       "0           0        Johnny KerrThomas    Male     jacksonalan@example.com   \n",
       "1           1        Dwayne LarsenLara    Male        calvin80@example.com   \n",
       "2           2                      NaN    Male          qbrown@example.net   \n",
       "3           3  Russell SimmonsPhillips    Male  kimberlywagner@example.com   \n",
       "4           4     Jamie WilsonMartinez  Female     shaunbrooks@example.com   \n",
       "\n",
       "  IS_GLOGIN  FOLLOWER_COUNT  FOLLOWING_COUNT  DATASET_COUNT  CODE_COUNT  \\\n",
       "0     False            53.0             87.0            5.0         3.0   \n",
       "1      True            16.0             67.0            5.0         NaN   \n",
       "2      True            44.0             81.0            4.0        17.0   \n",
       "3      True            23.0            114.0            5.0        24.0   \n",
       "4     False            46.0            112.0            2.0        12.0   \n",
       "\n",
       "   DISCUSSION_COUNT  AVG_NB_READ_TIME_MIN REGISTRATION_IPV4  \\\n",
       "0             124.0                   NaN      81.88.75.170   \n",
       "1              26.0                 24.97               NaN   \n",
       "2             125.0                  7.75   159.202.103.178   \n",
       "3              67.0                 13.40     196.11.132.51   \n",
       "4              63.0                 24.83    159.196.199.20   \n",
       "\n",
       "  REGISTRATION_LOCATION  TOTAL_VOTES_GAVE_NB  TOTAL_VOTES_GAVE_DS  \\\n",
       "0             Argentina                 16.0                 10.0   \n",
       "1           New Zealand                 14.0                  5.0   \n",
       "2            Costa Rica                 16.0                  4.0   \n",
       "3                 Italy                 21.0                 10.0   \n",
       "4               Belgium                 10.0                  6.0   \n",
       "\n",
       "   TOTAL_VOTES_GAVE_DC  ISBOT  \n",
       "0                  3.0    NaN  \n",
       "1                  2.0    NaN  \n",
       "2                  0.0  False  \n",
       "3                  1.0  False  \n",
       "4                  2.0  False  "
      ]
     },
     "execution_count": 22,
     "metadata": {},
     "output_type": "execute_result"
    }
   ],
   "source": [
    "df.head()"
   ]
  },
  {
   "cell_type": "code",
   "execution_count": 23,
   "metadata": {
    "id": "Q6v8Z6q9D_m9"
   },
   "outputs": [],
   "source": [
    "df.drop('Unnamed: 0',axis=1,inplace=True)"
   ]
  },
  {
   "cell_type": "code",
   "execution_count": 24,
   "metadata": {
    "colab": {
     "base_uri": "https://localhost:8080/"
    },
    "id": "yDRtOGWPD_m-",
    "outputId": "a46a7269-be07-4fed-eb39-c9c998939ca7"
   },
   "outputs": [
    {
     "data": {
      "text/plain": [
       "(41073, 16)"
      ]
     },
     "execution_count": 24,
     "metadata": {},
     "output_type": "execute_result"
    }
   ],
   "source": [
    "df.shape"
   ]
  },
  {
   "cell_type": "code",
   "execution_count": 25,
   "metadata": {
    "colab": {
     "base_uri": "https://localhost:8080/"
    },
    "id": "y0JGr8h9D_m_",
    "outputId": "d821ecfe-dbdf-4d4b-cfb0-2acde1844d04"
   },
   "outputs": [
    {
     "name": "stdout",
     "output_type": "stream",
     "text": [
      "<class 'pandas.core.frame.DataFrame'>\n",
      "RangeIndex: 41073 entries, 0 to 41072\n",
      "Data columns (total 16 columns):\n",
      " #   Column                 Non-Null Count  Dtype  \n",
      "---  ------                 --------------  -----  \n",
      " 0   NAME                   38609 non-null  object \n",
      " 1   GENDER                 38727 non-null  object \n",
      " 2   EMAIL_ID               38659 non-null  object \n",
      " 3   IS_GLOGIN              38566 non-null  object \n",
      " 4   FOLLOWER_COUNT         38560 non-null  float64\n",
      " 5   FOLLOWING_COUNT        38679 non-null  float64\n",
      " 6   DATASET_COUNT          38607 non-null  float64\n",
      " 7   CODE_COUNT             38668 non-null  float64\n",
      " 8   DISCUSSION_COUNT       38613 non-null  float64\n",
      " 9   AVG_NB_READ_TIME_MIN   38666 non-null  float64\n",
      " 10  REGISTRATION_IPV4      38684 non-null  object \n",
      " 11  REGISTRATION_LOCATION  38679 non-null  object \n",
      " 12  TOTAL_VOTES_GAVE_NB    38627 non-null  float64\n",
      " 13  TOTAL_VOTES_GAVE_DS    38638 non-null  float64\n",
      " 14  TOTAL_VOTES_GAVE_DC    38614 non-null  float64\n",
      " 15  ISBOT                  38631 non-null  object \n",
      "dtypes: float64(9), object(7)\n",
      "memory usage: 5.0+ MB\n"
     ]
    }
   ],
   "source": [
    "df.info()"
   ]
  },
  {
   "cell_type": "code",
   "execution_count": 26,
   "metadata": {
    "colab": {
     "base_uri": "https://localhost:8080/"
    },
    "id": "VTf3huD2D_nB",
    "outputId": "796595dd-c7a3-41fe-83dd-bd5691bcce05"
   },
   "outputs": [
    {
     "data": {
      "text/plain": [
       "NAME                     2464\n",
       "GENDER                   2346\n",
       "EMAIL_ID                 2414\n",
       "IS_GLOGIN                2507\n",
       "FOLLOWER_COUNT           2513\n",
       "FOLLOWING_COUNT          2394\n",
       "DATASET_COUNT            2466\n",
       "CODE_COUNT               2405\n",
       "DISCUSSION_COUNT         2460\n",
       "AVG_NB_READ_TIME_MIN     2407\n",
       "REGISTRATION_IPV4        2389\n",
       "REGISTRATION_LOCATION    2394\n",
       "TOTAL_VOTES_GAVE_NB      2446\n",
       "TOTAL_VOTES_GAVE_DS      2435\n",
       "TOTAL_VOTES_GAVE_DC      2459\n",
       "ISBOT                    2442\n",
       "dtype: int64"
      ]
     },
     "execution_count": 26,
     "metadata": {},
     "output_type": "execute_result"
    }
   ],
   "source": [
    "df.isnull().sum()"
   ]
  },
  {
   "cell_type": "code",
   "execution_count": 27,
   "metadata": {
    "colab": {
     "base_uri": "https://localhost:8080/"
    },
    "id": "sk8BIcxiD_nB",
    "outputId": "f87dbf14-16f4-409a-dcc5-314f13b1e6e1"
   },
   "outputs": [
    {
     "data": {
      "text/plain": [
       "0"
      ]
     },
     "execution_count": 27,
     "metadata": {},
     "output_type": "execute_result"
    }
   ],
   "source": [
    "df.duplicated().sum()"
   ]
  },
  {
   "cell_type": "markdown",
   "metadata": {
    "id": "1pfqpNKmKnyf"
   },
   "source": [
    "> We don't have any duplicate values in our dataset"
   ]
  },
  {
   "cell_type": "code",
   "execution_count": 28,
   "metadata": {
    "colab": {
     "base_uri": "https://localhost:8080/"
    },
    "id": "lnBLYl1UD_nC",
    "outputId": "57abacb0-392c-4b05-d39d-158cf08ec530"
   },
   "outputs": [
    {
     "name": "stdout",
     "output_type": "stream",
     "text": [
      "The Value counts of GENDER :\n",
      "Male      29056\n",
      "Female     9671 \n",
      "\n",
      "The Value counts of IS_GLOGIN :\n",
      "False    24526\n",
      "True     14040 \n",
      "\n",
      "The Value counts of ISBOT :\n",
      "False    28107\n",
      "True     10524 \n",
      "\n"
     ]
    }
   ],
   "source": [
    "clmns=['GENDER','IS_GLOGIN','ISBOT']\n",
    "for i in clmns:\n",
    "    print(f\"The Value counts of {i} :\")\n",
    "    print(df[i].value_counts().to_string(),'\\n')"
   ]
  },
  {
   "cell_type": "markdown",
   "metadata": {
    "id": "NDIh34zMKnyh"
   },
   "source": [
    "> From the above we can understand Our data is imbalanced"
   ]
  },
  {
   "cell_type": "markdown",
   "metadata": {
    "id": "E0zWeRCSD_nC"
   },
   "source": [
    "# **EDA**"
   ]
  },
  {
   "cell_type": "markdown",
   "metadata": {
    "id": "YTasr1i3D_nD"
   },
   "source": [
    "### **Univariate Analysis**"
   ]
  },
  {
   "cell_type": "code",
   "execution_count": 29,
   "metadata": {
    "colab": {
     "base_uri": "https://localhost:8080/",
     "height": 300
    },
    "id": "zLHq-KHyD_nD",
    "outputId": "596bb717-0eb5-4874-823c-9e3cc32202e4"
   },
   "outputs": [
    {
     "data": {
      "image/png": "[encoded data removed]",
      "text/plain": [
       "<Figure size 432x288 with 1 Axes>"
      ]
     },
     "metadata": {
      "needs_background": "light"
     },
     "output_type": "display_data"
    }
   ],
   "source": [
    "count=sns.countplot(x=df.GENDER,data=df)\n",
    "for i in count.containers:\n",
    "    count.bar_label(i)\n",
    "plt.title(\"The count of Gender\",color='b',size=20)\n",
    "plt.show()"
   ]
  },
  {
   "cell_type": "markdown",
   "metadata": {
    "id": "UZfnnHr5Knyk"
   },
   "source": [
    "> In gendder highest is male with 932220 "
   ]
  },
  {
   "cell_type": "code",
   "execution_count": 30,
   "metadata": {
    "colab": {
     "base_uri": "https://localhost:8080/",
     "height": 301
    },
    "id": "ag3yWG8XD_nE",
    "outputId": "fa64ed17-b6ad-4976-fafd-30ce183e7584"
   },
   "outputs": [
    {
     "data": {
      "image/png": "[encoded data removed]",
      "text/plain": [
       "<Figure size 432x288 with 1 Axes>"
      ]
     },
     "metadata": {
      "needs_background": "light"
     },
     "output_type": "display_data"
    }
   ],
   "source": [
    "count=sns.countplot(x=df.IS_GLOGIN,data=df)\n",
    "for i in count.containers:\n",
    "    count.bar_label(i)\n",
    "plt.title(\"The count of Google Login Status \",color='y',size=20,loc='left')\n",
    "plt.show()"
   ]
  },
  {
   "cell_type": "markdown",
   "metadata": {
    "id": "fHxWFvnbKnyl"
   },
   "source": [
    "> Most of them are not login in google"
   ]
  },
  {
   "cell_type": "code",
   "execution_count": 31,
   "metadata": {
    "colab": {
     "base_uri": "https://localhost:8080/",
     "height": 324
    },
    "id": "RxsGXNt5D_nE",
    "outputId": "f8b80bb4-112c-4291-8715-02ad4c075568"
   },
   "outputs": [
    {
     "data": {
      "image/png": "[encoded data removed]",
      "text/plain": [
       "<Figure size 720x360 with 1 Axes>"
      ]
     },
     "metadata": {},
     "output_type": "display_data"
    }
   ],
   "source": [
    "plt.figure(figsize=(10,5))\n",
    "plt.pie(df.ISBOT.value_counts().values,\n",
    "        labels=['False','True'],autopct='%1.2f%%')\n",
    "plt.title(\"The distribution of ISBOT\",color='violet',size=20)\n",
    "plt.show()"
   ]
  },
  {
   "cell_type": "markdown",
   "metadata": {
    "id": "Qwgv5R9FKnym"
   },
   "source": [
    "> Not bot is having 73%"
   ]
  },
  {
   "cell_type": "code",
   "execution_count": 32,
   "metadata": {
    "colab": {
     "base_uri": "https://localhost:8080/",
     "height": 576
    },
    "id": "neKmsYN9D_nF",
    "outputId": "936ebf77-760d-4713-d59f-4e6adcaa1013"
   },
   "outputs": [
    {
     "data": {
      "image/png": "[encoded data removed]",
      "text/plain": [
       "<Figure size 1080x720 with 9 Axes>"
      ]
     },
     "metadata": {
      "needs_background": "light"
     },
     "output_type": "display_data"
    }
   ],
   "source": [
    "plt.figure(figsize=(15,10))\n",
    "for i,col in enumerate(df.select_dtypes(exclude=['object']).columns,1):\n",
    "    plt.subplot(4,3,i)\n",
    "    plt.title(f\"Distribution of {col}\",fontdict= {'fontsize':20,'color':'violet'})\n",
    "    sns.histplot(df[col],kde=True)\n",
    "    plt.tight_layout()\n",
    "    plt.plot()"
   ]
  },
  {
   "cell_type": "markdown",
   "metadata": {
    "id": "YEleLTPoKnyo"
   },
   "source": [
    "> No feature is perfectly following the normal distribution"
   ]
  },
  {
   "cell_type": "markdown",
   "metadata": {
    "id": "zfDmyXFSD_nF"
   },
   "source": [
    "### **Bivariate Analysis**"
   ]
  },
  {
   "cell_type": "code",
   "execution_count": 33,
   "metadata": {
    "colab": {
     "base_uri": "https://localhost:8080/",
     "height": 300
    },
    "id": "gOl4EvDeD_nG",
    "outputId": "c3a6ef9d-7731-42b1-8f80-427ef2a9dcfa"
   },
   "outputs": [
    {
     "data": {
      "image/png": "[encoded data removed]",
      "text/plain": [
       "<Figure size 432x288 with 1 Axes>"
      ]
     },
     "metadata": {
      "needs_background": "light"
     },
     "output_type": "display_data"
    }
   ],
   "source": [
    "sns.boxplot(x=df.ISBOT,y=df.TOTAL_VOTES_GAVE_DC)\n",
    "plt.title(\"The votes & the individual has given to discussion comments vs IsBot\",color='red',size=20)\n",
    "plt.show()"
   ]
  },
  {
   "cell_type": "markdown",
   "metadata": {
    "id": "lw4LaswJKnyp"
   },
   "source": [
    "> The highest discussion comments are there on not bot"
   ]
  },
  {
   "cell_type": "code",
   "execution_count": 34,
   "metadata": {
    "colab": {
     "base_uri": "https://localhost:8080/",
     "height": 300
    },
    "id": "fz1Y6O0dD_nG",
    "outputId": "b933dc10-0b49-4160-9ba8-0b45177b05b4"
   },
   "outputs": [
    {
     "data": {
      "image/png": "[encoded data removed]",
      "text/plain": [
       "<Figure size 432x288 with 1 Axes>"
      ]
     },
     "metadata": {
      "needs_background": "light"
     },
     "output_type": "display_data"
    }
   ],
   "source": [
    "sns.boxplot(x=df.ISBOT,y=df.TOTAL_VOTES_GAVE_DS)\n",
    "plt.title(\"The votes & the individual has given to datasets vs IsBot\",color='red',size=20)\n",
    "plt.show()"
   ]
  },
  {
   "cell_type": "markdown",
   "metadata": {
    "id": "4fqhm_lcD_nH"
   },
   "source": [
    "### **Multivariate Analysis**"
   ]
  },
  {
   "cell_type": "code",
   "execution_count": 35,
   "metadata": {
    "colab": {
     "base_uri": "https://localhost:8080/",
     "height": 439
    },
    "id": "ImyKysvuD_nH",
    "outputId": "29ce4486-a63e-462d-f740-93082a74fa64"
   },
   "outputs": [
    {
     "data": {
      "image/png": "[encoded data removed]",
      "text/plain": [
       "<Figure size 1080x360 with 2 Axes>"
      ]
     },
     "metadata": {
      "needs_background": "light"
     },
     "output_type": "display_data"
    }
   ],
   "source": [
    "plt.figure(figsize=(15,5))\n",
    "sns.heatmap(df.corr(),annot=True)\n",
    "plt.show()"
   ]
  },
  {
   "cell_type": "markdown",
   "metadata": {
    "id": "kJg-5BfIKnyr"
   },
   "source": [
    "> There is no relation any good relationship among the features"
   ]
  },
  {
   "cell_type": "markdown",
   "metadata": {
    "id": "J-KIgUJbD_nI"
   },
   "source": [
    "### **Descriptive Analysis**"
   ]
  },
  {
   "cell_type": "code",
   "execution_count": 36,
   "metadata": {
    "colab": {
     "base_uri": "https://localhost:8080/",
     "height": 364
    },
    "id": "9szKAikvD_nI",
    "outputId": "da0d9491-a496-4670-8b4d-929d627d4925"
   },
   "outputs": [
    {
     "data": {
      "text/html": [
       "\n",
       "  <div id=\"df-126189a0-bbf7-48f6-aacf-b81dec2f6bb9\">\n",
       "    <div class=\"colab-df-container\">\n",
       "      <div>\n",
       "<style scoped>\n",
       "    .dataframe tbody tr th:only-of-type {\n",
       "        vertical-align: middle;\n",
       "    }\n",
       "\n",
       "    .dataframe tbody tr th {\n",
       "        vertical-align: top;\n",
       "    }\n",
       "\n",
       "    .dataframe thead th {\n",
       "        text-align: right;\n",
       "    }\n",
       "</style>\n",
       "<table border=\"1\" class=\"dataframe\">\n",
       "  <thead>\n",
       "    <tr style=\"text-align: right;\">\n",
       "      <th></th>\n",
       "      <th>FOLLOWER_COUNT</th>\n",
       "      <th>FOLLOWING_COUNT</th>\n",
       "      <th>DATASET_COUNT</th>\n",
       "      <th>CODE_COUNT</th>\n",
       "      <th>DISCUSSION_COUNT</th>\n",
       "      <th>AVG_NB_READ_TIME_MIN</th>\n",
       "      <th>TOTAL_VOTES_GAVE_NB</th>\n",
       "      <th>TOTAL_VOTES_GAVE_DS</th>\n",
       "      <th>TOTAL_VOTES_GAVE_DC</th>\n",
       "    </tr>\n",
       "  </thead>\n",
       "  <tbody>\n",
       "    <tr>\n",
       "      <th>count</th>\n",
       "      <td>38560.000000</td>\n",
       "      <td>38679.000000</td>\n",
       "      <td>38607.000000</td>\n",
       "      <td>38668.000000</td>\n",
       "      <td>38613.000000</td>\n",
       "      <td>38666.000000</td>\n",
       "      <td>38627.00000</td>\n",
       "      <td>38638.000000</td>\n",
       "      <td>38614.000000</td>\n",
       "    </tr>\n",
       "    <tr>\n",
       "      <th>mean</th>\n",
       "      <td>26.782313</td>\n",
       "      <td>44.630420</td>\n",
       "      <td>2.542337</td>\n",
       "      <td>10.294326</td>\n",
       "      <td>65.457592</td>\n",
       "      <td>12.694847</td>\n",
       "      <td>17.49279</td>\n",
       "      <td>6.512604</td>\n",
       "      <td>1.503341</td>\n",
       "    </tr>\n",
       "    <tr>\n",
       "      <th>std</th>\n",
       "      <td>22.978706</td>\n",
       "      <td>39.496692</td>\n",
       "      <td>2.501362</td>\n",
       "      <td>8.260117</td>\n",
       "      <td>47.666639</td>\n",
       "      <td>9.607675</td>\n",
       "      <td>4.60984</td>\n",
       "      <td>2.287247</td>\n",
       "      <td>1.119617</td>\n",
       "    </tr>\n",
       "    <tr>\n",
       "      <th>min</th>\n",
       "      <td>0.000000</td>\n",
       "      <td>0.000000</td>\n",
       "      <td>0.000000</td>\n",
       "      <td>0.000000</td>\n",
       "      <td>0.000000</td>\n",
       "      <td>0.000000</td>\n",
       "      <td>10.00000</td>\n",
       "      <td>3.000000</td>\n",
       "      <td>0.000000</td>\n",
       "    </tr>\n",
       "    <tr>\n",
       "      <th>25%</th>\n",
       "      <td>2.000000</td>\n",
       "      <td>3.000000</td>\n",
       "      <td>0.000000</td>\n",
       "      <td>1.000000</td>\n",
       "      <td>12.000000</td>\n",
       "      <td>1.830000</td>\n",
       "      <td>13.00000</td>\n",
       "      <td>5.000000</td>\n",
       "      <td>1.000000</td>\n",
       "    </tr>\n",
       "    <tr>\n",
       "      <th>50%</th>\n",
       "      <td>24.000000</td>\n",
       "      <td>38.000000</td>\n",
       "      <td>2.000000</td>\n",
       "      <td>10.000000</td>\n",
       "      <td>64.000000</td>\n",
       "      <td>12.170000</td>\n",
       "      <td>17.00000</td>\n",
       "      <td>7.000000</td>\n",
       "      <td>2.000000</td>\n",
       "    </tr>\n",
       "    <tr>\n",
       "      <th>75%</th>\n",
       "      <td>47.000000</td>\n",
       "      <td>79.000000</td>\n",
       "      <td>5.000000</td>\n",
       "      <td>18.000000</td>\n",
       "      <td>107.000000</td>\n",
       "      <td>21.197500</td>\n",
       "      <td>21.00000</td>\n",
       "      <td>8.000000</td>\n",
       "      <td>3.000000</td>\n",
       "    </tr>\n",
       "    <tr>\n",
       "      <th>max</th>\n",
       "      <td>70.000000</td>\n",
       "      <td>120.000000</td>\n",
       "      <td>7.000000</td>\n",
       "      <td>25.000000</td>\n",
       "      <td>150.000000</td>\n",
       "      <td>29.990000</td>\n",
       "      <td>25.00000</td>\n",
       "      <td>10.000000</td>\n",
       "      <td>3.000000</td>\n",
       "    </tr>\n",
       "  </tbody>\n",
       "</table>\n",
       "</div>\n",
       "      <button class=\"colab-df-convert\" onclick=\"convertToInteractive('df-126189a0-bbf7-48f6-aacf-b81dec2f6bb9')\"\n",
       "              title=\"Convert this dataframe to an interactive table.\"\n",
       "              style=\"display:none;\">\n",
       "        \n",
       "  <svg xmlns=\"http://www.w3.org/2000/svg\" height=\"24px\"viewBox=\"0 0 24 24\"\n",
       "       width=\"24px\">\n",
       "    <path d=\"M0 0h24v24H0V0z\" fill=\"none\"/>\n",
       "    <path d=\"M18.56 5.44l.94 2.06.94-2.06 2.06-.94-2.06-.94-.94-2.06-.94 2.06-2.06.94zm-11 1L8.5 8.5l.94-2.06 2.06-.94-2.06-.94L8.5 2.5l-.94 2.06-2.06.94zm10 10l.94 2.06.94-2.06 2.06-.94-2.06-.94-.94-2.06-.94 2.06-2.06.94z\"/><path d=\"M17.41 7.96l-1.37-1.37c-.4-.4-.92-.59-1.43-.59-.52 0-1.04.2-1.43.59L10.3 9.45l-7.72 7.72c-.78.78-.78 2.05 0 2.83L4 21.41c.39.39.9.59 1.41.59.51 0 1.02-.2 1.41-.59l7.78-7.78 2.81-2.81c.8-.78.8-2.07 0-2.86zM5.41 20L4 18.59l7.72-7.72 1.47 1.35L5.41 20z\"/>\n",
       "  </svg>\n",
       "      </button>\n",
       "      \n",
       "  <style>\n",
       "    .colab-df-container {\n",
       "      display:flex;\n",
       "      flex-wrap:wrap;\n",
       "      gap: 12px;\n",
       "    }\n",
       "\n",
       "    .colab-df-convert {\n",
       "      background-color: #E8F0FE;\n",
       "      border: none;\n",
       "      border-radius: 50%;\n",
       "      cursor: pointer;\n",
       "      display: none;\n",
       "      fill: #1967D2;\n",
       "      height: 32px;\n",
       "      padding: 0 0 0 0;\n",
       "      width: 32px;\n",
       "    }\n",
       "\n",
       "    .colab-df-convert:hover {\n",
       "      background-color: #E2EBFA;\n",
       "      box-shadow: 0px 1px 2px rgba(60, 64, 67, 0.3), 0px 1px 3px 1px rgba(60, 64, 67, 0.15);\n",
       "      fill: #174EA6;\n",
       "    }\n",
       "\n",
       "    [theme=dark] .colab-df-convert {\n",
       "      background-color: #3B4455;\n",
       "      fill: #D2E3FC;\n",
       "    }\n",
       "\n",
       "    [theme=dark] .colab-df-convert:hover {\n",
       "      background-color: #434B5C;\n",
       "      box-shadow: 0px 1px 3px 1px rgba(0, 0, 0, 0.15);\n",
       "      filter: drop-shadow(0px 1px 2px rgba(0, 0, 0, 0.3));\n",
       "      fill: #FFFFFF;\n",
       "    }\n",
       "  </style>\n",
       "\n",
       "      <script>\n",
       "        const buttonEl =\n",
       "          document.querySelector('#df-126189a0-bbf7-48f6-aacf-b81dec2f6bb9 button.colab-df-convert');\n",
       "        buttonEl.style.display =\n",
       "          google.colab.kernel.accessAllowed ? 'block' : 'none';\n",
       "\n",
       "        async function convertToInteractive(key) {\n",
       "          const element = document.querySelector('#df-126189a0-bbf7-48f6-aacf-b81dec2f6bb9');\n",
       "          const dataTable =\n",
       "            await google.colab.kernel.invokeFunction('convertToInteractive',\n",
       "                                                     [key], {});\n",
       "          if (!dataTable) return;\n",
       "\n",
       "          const docLinkHtml = 'Like what you see? Visit the ' +\n",
       "            '<a target=\"_blank\" href=https://colab.research.google.com/notebooks/data_table.ipynb>data table notebook</a>'\n",
       "            + ' to learn more about interactive tables.';\n",
       "          element.innerHTML = '';\n",
       "          dataTable['output_type'] = 'display_data';\n",
       "          await google.colab.output.renderOutput(dataTable, element);\n",
       "          const docLink = document.createElement('div');\n",
       "          docLink.innerHTML = docLinkHtml;\n",
       "          element.appendChild(docLink);\n",
       "        }\n",
       "      </script>\n",
       "    </div>\n",
       "  </div>\n",
       "  "
      ],
      "text/plain": [
       "       FOLLOWER_COUNT  FOLLOWING_COUNT  DATASET_COUNT    CODE_COUNT  \\\n",
       "count    38560.000000     38679.000000   38607.000000  38668.000000   \n",
       "mean        26.782313        44.630420       2.542337     10.294326   \n",
       "std         22.978706        39.496692       2.501362      8.260117   \n",
       "min          0.000000         0.000000       0.000000      0.000000   \n",
       "25%          2.000000         3.000000       0.000000      1.000000   \n",
       "50%         24.000000        38.000000       2.000000     10.000000   \n",
       "75%         47.000000        79.000000       5.000000     18.000000   \n",
       "max         70.000000       120.000000       7.000000     25.000000   \n",
       "\n",
       "       DISCUSSION_COUNT  AVG_NB_READ_TIME_MIN  TOTAL_VOTES_GAVE_NB  \\\n",
       "count      38613.000000          38666.000000          38627.00000   \n",
       "mean          65.457592             12.694847             17.49279   \n",
       "std           47.666639              9.607675              4.60984   \n",
       "min            0.000000              0.000000             10.00000   \n",
       "25%           12.000000              1.830000             13.00000   \n",
       "50%           64.000000             12.170000             17.00000   \n",
       "75%          107.000000             21.197500             21.00000   \n",
       "max          150.000000             29.990000             25.00000   \n",
       "\n",
       "       TOTAL_VOTES_GAVE_DS  TOTAL_VOTES_GAVE_DC  \n",
       "count         38638.000000         38614.000000  \n",
       "mean              6.512604             1.503341  \n",
       "std               2.287247             1.119617  \n",
       "min               3.000000             0.000000  \n",
       "25%               5.000000             1.000000  \n",
       "50%               7.000000             2.000000  \n",
       "75%               8.000000             3.000000  \n",
       "max              10.000000             3.000000  "
      ]
     },
     "execution_count": 36,
     "metadata": {},
     "output_type": "execute_result"
    }
   ],
   "source": [
    "df.describe()"
   ]
  },
  {
   "cell_type": "code",
   "execution_count": 37,
   "metadata": {
    "colab": {
     "base_uri": "https://localhost:8080/"
    },
    "id": "kVMGPKOOD_nJ",
    "outputId": "878fca61-8f64-4335-b245-dfab927ff848"
   },
   "outputs": [
    {
     "data": {
      "text/plain": [
       "IS_GLOGIN               0.565106\n",
       "FOLLOWER_COUNT          0.336878\n",
       "FOLLOWING_COUNT         0.375430\n",
       "DATASET_COUNT           0.456399\n",
       "CODE_COUNT              0.236423\n",
       "DISCUSSION_COUNT        0.138889\n",
       "AVG_NB_READ_TIME_MIN    0.185817\n",
       "TOTAL_VOTES_GAVE_NB     0.001552\n",
       "TOTAL_VOTES_GAVE_DS    -0.011818\n",
       "TOTAL_VOTES_GAVE_DC    -0.001880\n",
       "ISBOT                   1.022380\n",
       "dtype: float64"
      ]
     },
     "execution_count": 37,
     "metadata": {},
     "output_type": "execute_result"
    }
   ],
   "source": [
    "df.skew()"
   ]
  },
  {
   "cell_type": "code",
   "execution_count": 38,
   "metadata": {
    "id": "DEbfAGazD_nK"
   },
   "outputs": [],
   "source": [
    "df.drop(columns=['NAME','EMAIL_ID','REGISTRATION_IPV4'],inplace=True)"
   ]
  },
  {
   "cell_type": "code",
   "execution_count": 39,
   "metadata": {
    "colab": {
     "base_uri": "https://localhost:8080/",
     "height": 270
    },
    "id": "oFJf89IZD_nL",
    "outputId": "a7cbe17a-5460-4259-85c4-358b581adfec"
   },
   "outputs": [
    {
     "data": {
      "text/html": [
       "\n",
       "  <div id=\"df-8981dc1c-d80a-47b9-916d-5f18ba0f8be3\">\n",
       "    <div class=\"colab-df-container\">\n",
       "      <div>\n",
       "<style scoped>\n",
       "    .dataframe tbody tr th:only-of-type {\n",
       "        vertical-align: middle;\n",
       "    }\n",
       "\n",
       "    .dataframe tbody tr th {\n",
       "        vertical-align: top;\n",
       "    }\n",
       "\n",
       "    .dataframe thead th {\n",
       "        text-align: right;\n",
       "    }\n",
       "</style>\n",
       "<table border=\"1\" class=\"dataframe\">\n",
       "  <thead>\n",
       "    <tr style=\"text-align: right;\">\n",
       "      <th></th>\n",
       "      <th>GENDER</th>\n",
       "      <th>IS_GLOGIN</th>\n",
       "      <th>FOLLOWER_COUNT</th>\n",
       "      <th>FOLLOWING_COUNT</th>\n",
       "      <th>DATASET_COUNT</th>\n",
       "      <th>CODE_COUNT</th>\n",
       "      <th>DISCUSSION_COUNT</th>\n",
       "      <th>AVG_NB_READ_TIME_MIN</th>\n",
       "      <th>REGISTRATION_LOCATION</th>\n",
       "      <th>TOTAL_VOTES_GAVE_NB</th>\n",
       "      <th>TOTAL_VOTES_GAVE_DS</th>\n",
       "      <th>TOTAL_VOTES_GAVE_DC</th>\n",
       "      <th>ISBOT</th>\n",
       "    </tr>\n",
       "  </thead>\n",
       "  <tbody>\n",
       "    <tr>\n",
       "      <th>0</th>\n",
       "      <td>Male</td>\n",
       "      <td>False</td>\n",
       "      <td>53.0</td>\n",
       "      <td>87.0</td>\n",
       "      <td>5.0</td>\n",
       "      <td>3.0</td>\n",
       "      <td>124.0</td>\n",
       "      <td>NaN</td>\n",
       "      <td>Argentina</td>\n",
       "      <td>16.0</td>\n",
       "      <td>10.0</td>\n",
       "      <td>3.0</td>\n",
       "      <td>NaN</td>\n",
       "    </tr>\n",
       "    <tr>\n",
       "      <th>1</th>\n",
       "      <td>Male</td>\n",
       "      <td>True</td>\n",
       "      <td>16.0</td>\n",
       "      <td>67.0</td>\n",
       "      <td>5.0</td>\n",
       "      <td>NaN</td>\n",
       "      <td>26.0</td>\n",
       "      <td>24.97</td>\n",
       "      <td>New Zealand</td>\n",
       "      <td>14.0</td>\n",
       "      <td>5.0</td>\n",
       "      <td>2.0</td>\n",
       "      <td>NaN</td>\n",
       "    </tr>\n",
       "    <tr>\n",
       "      <th>2</th>\n",
       "      <td>Male</td>\n",
       "      <td>True</td>\n",
       "      <td>44.0</td>\n",
       "      <td>81.0</td>\n",
       "      <td>4.0</td>\n",
       "      <td>17.0</td>\n",
       "      <td>125.0</td>\n",
       "      <td>7.75</td>\n",
       "      <td>Costa Rica</td>\n",
       "      <td>16.0</td>\n",
       "      <td>4.0</td>\n",
       "      <td>0.0</td>\n",
       "      <td>False</td>\n",
       "    </tr>\n",
       "    <tr>\n",
       "      <th>3</th>\n",
       "      <td>Male</td>\n",
       "      <td>True</td>\n",
       "      <td>23.0</td>\n",
       "      <td>114.0</td>\n",
       "      <td>5.0</td>\n",
       "      <td>24.0</td>\n",
       "      <td>67.0</td>\n",
       "      <td>13.40</td>\n",
       "      <td>Italy</td>\n",
       "      <td>21.0</td>\n",
       "      <td>10.0</td>\n",
       "      <td>1.0</td>\n",
       "      <td>False</td>\n",
       "    </tr>\n",
       "    <tr>\n",
       "      <th>4</th>\n",
       "      <td>Female</td>\n",
       "      <td>False</td>\n",
       "      <td>46.0</td>\n",
       "      <td>112.0</td>\n",
       "      <td>2.0</td>\n",
       "      <td>12.0</td>\n",
       "      <td>63.0</td>\n",
       "      <td>24.83</td>\n",
       "      <td>Belgium</td>\n",
       "      <td>10.0</td>\n",
       "      <td>6.0</td>\n",
       "      <td>2.0</td>\n",
       "      <td>False</td>\n",
       "    </tr>\n",
       "  </tbody>\n",
       "</table>\n",
       "</div>\n",
       "      <button class=\"colab-df-convert\" onclick=\"convertToInteractive('df-8981dc1c-d80a-47b9-916d-5f18ba0f8be3')\"\n",
       "              title=\"Convert this dataframe to an interactive table.\"\n",
       "              style=\"display:none;\">\n",
       "        \n",
       "  <svg xmlns=\"http://www.w3.org/2000/svg\" height=\"24px\"viewBox=\"0 0 24 24\"\n",
       "       width=\"24px\">\n",
       "    <path d=\"M0 0h24v24H0V0z\" fill=\"none\"/>\n",
       "    <path d=\"M18.56 5.44l.94 2.06.94-2.06 2.06-.94-2.06-.94-.94-2.06-.94 2.06-2.06.94zm-11 1L8.5 8.5l.94-2.06 2.06-.94-2.06-.94L8.5 2.5l-.94 2.06-2.06.94zm10 10l.94 2.06.94-2.06 2.06-.94-2.06-.94-.94-2.06-.94 2.06-2.06.94z\"/><path d=\"M17.41 7.96l-1.37-1.37c-.4-.4-.92-.59-1.43-.59-.52 0-1.04.2-1.43.59L10.3 9.45l-7.72 7.72c-.78.78-.78 2.05 0 2.83L4 21.41c.39.39.9.59 1.41.59.51 0 1.02-.2 1.41-.59l7.78-7.78 2.81-2.81c.8-.78.8-2.07 0-2.86zM5.41 20L4 18.59l7.72-7.72 1.47 1.35L5.41 20z\"/>\n",
       "  </svg>\n",
       "      </button>\n",
       "      \n",
       "  <style>\n",
       "    .colab-df-container {\n",
       "      display:flex;\n",
       "      flex-wrap:wrap;\n",
       "      gap: 12px;\n",
       "    }\n",
       "\n",
       "    .colab-df-convert {\n",
       "      background-color: #E8F0FE;\n",
       "      border: none;\n",
       "      border-radius: 50%;\n",
       "      cursor: pointer;\n",
       "      display: none;\n",
       "      fill: #1967D2;\n",
       "      height: 32px;\n",
       "      padding: 0 0 0 0;\n",
       "      width: 32px;\n",
       "    }\n",
       "\n",
       "    .colab-df-convert:hover {\n",
       "      background-color: #E2EBFA;\n",
       "      box-shadow: 0px 1px 2px rgba(60, 64, 67, 0.3), 0px 1px 3px 1px rgba(60, 64, 67, 0.15);\n",
       "      fill: #174EA6;\n",
       "    }\n",
       "\n",
       "    [theme=dark] .colab-df-convert {\n",
       "      background-color: #3B4455;\n",
       "      fill: #D2E3FC;\n",
       "    }\n",
       "\n",
       "    [theme=dark] .colab-df-convert:hover {\n",
       "      background-color: #434B5C;\n",
       "      box-shadow: 0px 1px 3px 1px rgba(0, 0, 0, 0.15);\n",
       "      filter: drop-shadow(0px 1px 2px rgba(0, 0, 0, 0.3));\n",
       "      fill: #FFFFFF;\n",
       "    }\n",
       "  </style>\n",
       "\n",
       "      <script>\n",
       "        const buttonEl =\n",
       "          document.querySelector('#df-8981dc1c-d80a-47b9-916d-5f18ba0f8be3 button.colab-df-convert');\n",
       "        buttonEl.style.display =\n",
       "          google.colab.kernel.accessAllowed ? 'block' : 'none';\n",
       "\n",
       "        async function convertToInteractive(key) {\n",
       "          const element = document.querySelector('#df-8981dc1c-d80a-47b9-916d-5f18ba0f8be3');\n",
       "          const dataTable =\n",
       "            await google.colab.kernel.invokeFunction('convertToInteractive',\n",
       "                                                     [key], {});\n",
       "          if (!dataTable) return;\n",
       "\n",
       "          const docLinkHtml = 'Like what you see? Visit the ' +\n",
       "            '<a target=\"_blank\" href=https://colab.research.google.com/notebooks/data_table.ipynb>data table notebook</a>'\n",
       "            + ' to learn more about interactive tables.';\n",
       "          element.innerHTML = '';\n",
       "          dataTable['output_type'] = 'display_data';\n",
       "          await google.colab.output.renderOutput(dataTable, element);\n",
       "          const docLink = document.createElement('div');\n",
       "          docLink.innerHTML = docLinkHtml;\n",
       "          element.appendChild(docLink);\n",
       "        }\n",
       "      </script>\n",
       "    </div>\n",
       "  </div>\n",
       "  "
      ],
      "text/plain": [
       "   GENDER IS_GLOGIN  FOLLOWER_COUNT  FOLLOWING_COUNT  DATASET_COUNT  \\\n",
       "0    Male     False            53.0             87.0            5.0   \n",
       "1    Male      True            16.0             67.0            5.0   \n",
       "2    Male      True            44.0             81.0            4.0   \n",
       "3    Male      True            23.0            114.0            5.0   \n",
       "4  Female     False            46.0            112.0            2.0   \n",
       "\n",
       "   CODE_COUNT  DISCUSSION_COUNT  AVG_NB_READ_TIME_MIN REGISTRATION_LOCATION  \\\n",
       "0         3.0             124.0                   NaN             Argentina   \n",
       "1         NaN              26.0                 24.97           New Zealand   \n",
       "2        17.0             125.0                  7.75            Costa Rica   \n",
       "3        24.0              67.0                 13.40                 Italy   \n",
       "4        12.0              63.0                 24.83               Belgium   \n",
       "\n",
       "   TOTAL_VOTES_GAVE_NB  TOTAL_VOTES_GAVE_DS  TOTAL_VOTES_GAVE_DC  ISBOT  \n",
       "0                 16.0                 10.0                  3.0    NaN  \n",
       "1                 14.0                  5.0                  2.0    NaN  \n",
       "2                 16.0                  4.0                  0.0  False  \n",
       "3                 21.0                 10.0                  1.0  False  \n",
       "4                 10.0                  6.0                  2.0  False  "
      ]
     },
     "execution_count": 39,
     "metadata": {},
     "output_type": "execute_result"
    }
   ],
   "source": [
    "df.head()"
   ]
  },
  {
   "cell_type": "code",
   "execution_count": 40,
   "metadata": {
    "colab": {
     "base_uri": "https://localhost:8080/"
    },
    "id": "5HctHIw6Knyu",
    "outputId": "29ff05ca-4762-42bc-e1a1-527ac701c53e"
   },
   "outputs": [
    {
     "data": {
      "text/plain": [
       "(41073, 13)"
      ]
     },
     "execution_count": 40,
     "metadata": {},
     "output_type": "execute_result"
    }
   ],
   "source": [
    "df.shape"
   ]
  },
  {
   "cell_type": "code",
   "execution_count": 41,
   "metadata": {
    "colab": {
     "base_uri": "https://localhost:8080/"
    },
    "id": "-Vcma77FKnyv",
    "outputId": "af51382b-c91f-4fe5-fe33-7204eedfd0f0"
   },
   "outputs": [
    {
     "data": {
      "text/plain": [
       "Index(['GENDER', 'IS_GLOGIN', 'FOLLOWER_COUNT', 'FOLLOWING_COUNT',\n",
       "       'DATASET_COUNT', 'CODE_COUNT', 'DISCUSSION_COUNT',\n",
       "       'AVG_NB_READ_TIME_MIN', 'REGISTRATION_LOCATION', 'TOTAL_VOTES_GAVE_NB',\n",
       "       'TOTAL_VOTES_GAVE_DS', 'TOTAL_VOTES_GAVE_DC', 'ISBOT'],\n",
       "      dtype='object')"
      ]
     },
     "execution_count": 41,
     "metadata": {},
     "output_type": "execute_result"
    }
   ],
   "source": [
    "df.columns"
   ]
  },
  {
   "cell_type": "markdown",
   "metadata": {
    "id": "xUrXt6cJD_nL"
   },
   "source": [
    "### **Handling Missing Values**"
   ]
  },
  {
   "cell_type": "code",
   "execution_count": 42,
   "metadata": {
    "colab": {
     "base_uri": "https://localhost:8080/"
    },
    "id": "obWjQpmDD_nL",
    "outputId": "8c0123c9-e45d-46fe-dd02-19c543ed136c"
   },
   "outputs": [
    {
     "data": {
      "text/plain": [
       "GENDER                   2346\n",
       "IS_GLOGIN                2507\n",
       "FOLLOWER_COUNT           2513\n",
       "FOLLOWING_COUNT          2394\n",
       "DATASET_COUNT            2466\n",
       "CODE_COUNT               2405\n",
       "DISCUSSION_COUNT         2460\n",
       "AVG_NB_READ_TIME_MIN     2407\n",
       "REGISTRATION_LOCATION    2394\n",
       "TOTAL_VOTES_GAVE_NB      2446\n",
       "TOTAL_VOTES_GAVE_DS      2435\n",
       "TOTAL_VOTES_GAVE_DC      2459\n",
       "ISBOT                    2442\n",
       "dtype: int64"
      ]
     },
     "execution_count": 42,
     "metadata": {},
     "output_type": "execute_result"
    }
   ],
   "source": [
    "df.isnull().sum()"
   ]
  },
  {
   "cell_type": "code",
   "execution_count": 43,
   "metadata": {
    "id": "-dpAfw9ED_nM"
   },
   "outputs": [],
   "source": [
    "from sklearn.impute import SimpleImputer"
   ]
  },
  {
   "cell_type": "code",
   "execution_count": 44,
   "metadata": {
    "id": "OBwD8bTPD_nM"
   },
   "outputs": [],
   "source": [
    "Si=SimpleImputer(strategy='median')"
   ]
  },
  {
   "cell_type": "code",
   "execution_count": 45,
   "metadata": {
    "id": "AcBx71spD_nM"
   },
   "outputs": [],
   "source": [
    "df['FOLLOWER_COUNT']=Si.fit_transform(df[['FOLLOWER_COUNT']])\n",
    "df['FOLLOWING_COUNT']=Si.fit_transform(df[['FOLLOWING_COUNT']])\n",
    "df['DATASET_COUNT']=Si.fit_transform(df[['DATASET_COUNT']])\n",
    "df['CODE_COUNT']=Si.fit_transform(df[['CODE_COUNT']])\n",
    "df['DISCUSSION_COUNT']=Si.fit_transform(df[['DISCUSSION_COUNT']])\n",
    "df['AVG_NB_READ_TIME_MIN']=Si.fit_transform(df[['AVG_NB_READ_TIME_MIN']])\n",
    "df['TOTAL_VOTES_GAVE_NB']=Si.fit_transform(df[['TOTAL_VOTES_GAVE_NB']])\n",
    "df['TOTAL_VOTES_GAVE_DS']=Si.fit_transform(df[['TOTAL_VOTES_GAVE_DS']])\n",
    "df['TOTAL_VOTES_GAVE_DC']=Si.fit_transform(df[['TOTAL_VOTES_GAVE_DC']])"
   ]
  },
  {
   "cell_type": "code",
   "execution_count": 46,
   "metadata": {
    "id": "6VI28bekD_nN"
   },
   "outputs": [],
   "source": [
    "df['GENDER']=df['GENDER'].fillna(df['GENDER'].mode()[0])\n",
    "df['IS_GLOGIN']=df['IS_GLOGIN'].fillna(df['IS_GLOGIN'].mode()[0])\n",
    "df['REGISTRATION_LOCATION']=df['REGISTRATION_LOCATION'].fillna(df['REGISTRATION_LOCATION'].mode()[0])\n",
    "df['ISBOT']=df['ISBOT'].fillna(df['ISBOT'].mode()[0])"
   ]
  },
  {
   "cell_type": "code",
   "execution_count": 47,
   "metadata": {
    "colab": {
     "base_uri": "https://localhost:8080/"
    },
    "id": "gOrJZ3tfD_nN",
    "outputId": "33cbf98c-282f-4130-9a22-dbda2b0a4dc9"
   },
   "outputs": [
    {
     "data": {
      "text/plain": [
       "GENDER                   0\n",
       "IS_GLOGIN                0\n",
       "FOLLOWER_COUNT           0\n",
       "FOLLOWING_COUNT          0\n",
       "DATASET_COUNT            0\n",
       "CODE_COUNT               0\n",
       "DISCUSSION_COUNT         0\n",
       "AVG_NB_READ_TIME_MIN     0\n",
       "REGISTRATION_LOCATION    0\n",
       "TOTAL_VOTES_GAVE_NB      0\n",
       "TOTAL_VOTES_GAVE_DS      0\n",
       "TOTAL_VOTES_GAVE_DC      0\n",
       "ISBOT                    0\n",
       "dtype: int64"
      ]
     },
     "execution_count": 47,
     "metadata": {},
     "output_type": "execute_result"
    }
   ],
   "source": [
    "df.isnull().sum()"
   ]
  },
  {
   "cell_type": "markdown",
   "metadata": {
    "id": "ba8ONDm2D_nO"
   },
   "source": [
    "### **Handling Outliers**"
   ]
  },
  {
   "cell_type": "code",
   "execution_count": 34,
   "metadata": {
    "colab": {
     "base_uri": "https://localhost:8080/",
     "height": 1000
    },
    "id": "OkJUnVrTD_nP",
    "outputId": "132751da-57af-49a1-ff09-c2d0db9bcd1c"
   },
   "outputs": [
    {
     "data": {
      "image/png": "[encoded data removed]",
      "text/plain": [
       "<Figure size 432x288 with 1 Axes>"
      ]
     },
     "metadata": {
      "needs_background": "light"
     },
     "output_type": "display_data"
    },
    {
     "data": {
      "image/png": "[encoded data removed]",
      "text/plain": [
       "<Figure size 432x288 with 1 Axes>"
      ]
     },
     "metadata": {
      "needs_background": "light"
     },
     "output_type": "display_data"
    },
    {
     "data": {
      "image/png": "[encoded data removed]",
      "text/plain": [
       "<Figure size 432x288 with 1 Axes>"
      ]
     },
     "metadata": {
      "needs_background": "light"
     },
     "output_type": "display_data"
    },
    {
     "data": {
      "image/png": "[encoded data removed]",
      "text/plain": [
       "<Figure size 432x288 with 1 Axes>"
      ]
     },
     "metadata": {
      "needs_background": "light"
     },
     "output_type": "display_data"
    },
    {
     "data": {
      "image/png": "[encoded data removed]",
      "text/plain": [
       "<Figure size 432x288 with 1 Axes>"
      ]
     },
     "metadata": {
      "needs_background": "light"
     },
     "output_type": "display_data"
    },
    {
     "data": {
      "image/png": "[encoded data removed]",
      "text/plain": [
       "<Figure size 432x288 with 1 Axes>"
      ]
     },
     "metadata": {
      "needs_background": "light"
     },
     "output_type": "display_data"
    },
    {
     "data": {
      "image/png": "[encoded data removed]",
      "text/plain": [
       "<Figure size 432x288 with 1 Axes>"
      ]
     },
     "metadata": {
      "needs_background": "light"
     },
     "output_type": "display_data"
    },
    {
     "data": {
      "image/png": "[encoded data removed]",
      "text/plain": [
       "<Figure size 432x288 with 1 Axes>"
      ]
     },
     "metadata": {
      "needs_background": "light"
     },
     "output_type": "display_data"
    },
    {
     "data": {
      "image/png": "[encoded data removed]",
      "text/plain": [
       "<Figure size 432x288 with 1 Axes>"
      ]
     },
     "metadata": {
      "needs_background": "light"
     },
     "output_type": "display_data"
    },
    {
     "data": {
      "image/png": "[encoded data removed]",
      "text/plain": [
       "<Figure size 432x288 with 1 Axes>"
      ]
     },
     "metadata": {
      "needs_background": "light"
     },
     "output_type": "display_data"
    },
    {
     "data": {
      "image/png": "[encoded data removed]",
      "text/plain": [
       "<Figure size 432x288 with 1 Axes>"
      ]
     },
     "metadata": {
      "needs_background": "light"
     },
     "output_type": "display_data"
    }
   ],
   "source": [
    "for i in df.columns:\n",
    "    if type(df[i][0])!=str:\n",
    "        sns.boxplot(df[i])\n",
    "        plt.title(i)\n",
    "        plt.show()"
   ]
  },
  {
   "cell_type": "markdown",
   "metadata": {
    "id": "qWqfCudZKny0"
   },
   "source": [
    "> We don't have any outliers in our data set"
   ]
  },
  {
   "cell_type": "markdown",
   "metadata": {
    "id": "N0bH7FSjD_nP"
   },
   "source": [
    "### **Handling categorical data**"
   ]
  },
  {
   "cell_type": "code",
   "execution_count": 48,
   "metadata": {
    "id": "-LTvwq5tD_nQ"
   },
   "outputs": [],
   "source": [
    "from sklearn.preprocessing import LabelEncoder"
   ]
  },
  {
   "cell_type": "code",
   "execution_count": 49,
   "metadata": {
    "id": "7zgCBvz6D_nR"
   },
   "outputs": [],
   "source": [
    "encoder=LabelEncoder()"
   ]
  },
  {
   "cell_type": "code",
   "execution_count": 50,
   "metadata": {
    "id": "N-3LOaIpD_nR"
   },
   "outputs": [],
   "source": [
    "df['GENDER']=encoder.fit_transform(df['GENDER'])\n",
    "df['IS_GLOGIN']=encoder.fit_transform(df['IS_GLOGIN'])\n",
    "df['REGISTRATION_LOCATION']=encoder.fit_transform(df['REGISTRATION_LOCATION'])\n",
    "df['ISBOT']=encoder.fit_transform(df['ISBOT'])"
   ]
  },
  {
   "cell_type": "code",
   "execution_count": 51,
   "metadata": {
    "colab": {
     "base_uri": "https://localhost:8080/",
     "height": 270
    },
    "id": "1n7Ja4r5D_nR",
    "outputId": "9b46a76f-50dd-4d29-97f4-b5a2063961a3"
   },
   "outputs": [
    {
     "data": {
      "text/html": [
       "\n",
       "  <div id=\"df-942a429b-359a-4dad-98ff-ac0360fe18c2\">\n",
       "    <div class=\"colab-df-container\">\n",
       "      <div>\n",
       "<style scoped>\n",
       "    .dataframe tbody tr th:only-of-type {\n",
       "        vertical-align: middle;\n",
       "    }\n",
       "\n",
       "    .dataframe tbody tr th {\n",
       "        vertical-align: top;\n",
       "    }\n",
       "\n",
       "    .dataframe thead th {\n",
       "        text-align: right;\n",
       "    }\n",
       "</style>\n",
       "<table border=\"1\" class=\"dataframe\">\n",
       "  <thead>\n",
       "    <tr style=\"text-align: right;\">\n",
       "      <th></th>\n",
       "      <th>GENDER</th>\n",
       "      <th>IS_GLOGIN</th>\n",
       "      <th>FOLLOWER_COUNT</th>\n",
       "      <th>FOLLOWING_COUNT</th>\n",
       "      <th>DATASET_COUNT</th>\n",
       "      <th>CODE_COUNT</th>\n",
       "      <th>DISCUSSION_COUNT</th>\n",
       "      <th>AVG_NB_READ_TIME_MIN</th>\n",
       "      <th>REGISTRATION_LOCATION</th>\n",
       "      <th>TOTAL_VOTES_GAVE_NB</th>\n",
       "      <th>TOTAL_VOTES_GAVE_DS</th>\n",
       "      <th>TOTAL_VOTES_GAVE_DC</th>\n",
       "      <th>ISBOT</th>\n",
       "    </tr>\n",
       "  </thead>\n",
       "  <tbody>\n",
       "    <tr>\n",
       "      <th>0</th>\n",
       "      <td>1</td>\n",
       "      <td>0</td>\n",
       "      <td>53.0</td>\n",
       "      <td>87.0</td>\n",
       "      <td>5.0</td>\n",
       "      <td>3.0</td>\n",
       "      <td>124.0</td>\n",
       "      <td>12.17</td>\n",
       "      <td>9</td>\n",
       "      <td>16.0</td>\n",
       "      <td>10.0</td>\n",
       "      <td>3.0</td>\n",
       "      <td>0</td>\n",
       "    </tr>\n",
       "    <tr>\n",
       "      <th>1</th>\n",
       "      <td>1</td>\n",
       "      <td>1</td>\n",
       "      <td>16.0</td>\n",
       "      <td>67.0</td>\n",
       "      <td>5.0</td>\n",
       "      <td>10.0</td>\n",
       "      <td>26.0</td>\n",
       "      <td>24.97</td>\n",
       "      <td>155</td>\n",
       "      <td>14.0</td>\n",
       "      <td>5.0</td>\n",
       "      <td>2.0</td>\n",
       "      <td>0</td>\n",
       "    </tr>\n",
       "    <tr>\n",
       "      <th>2</th>\n",
       "      <td>1</td>\n",
       "      <td>1</td>\n",
       "      <td>44.0</td>\n",
       "      <td>81.0</td>\n",
       "      <td>4.0</td>\n",
       "      <td>17.0</td>\n",
       "      <td>125.0</td>\n",
       "      <td>7.75</td>\n",
       "      <td>51</td>\n",
       "      <td>16.0</td>\n",
       "      <td>4.0</td>\n",
       "      <td>0.0</td>\n",
       "      <td>0</td>\n",
       "    </tr>\n",
       "    <tr>\n",
       "      <th>3</th>\n",
       "      <td>1</td>\n",
       "      <td>1</td>\n",
       "      <td>23.0</td>\n",
       "      <td>114.0</td>\n",
       "      <td>5.0</td>\n",
       "      <td>24.0</td>\n",
       "      <td>67.0</td>\n",
       "      <td>13.40</td>\n",
       "      <td>106</td>\n",
       "      <td>21.0</td>\n",
       "      <td>10.0</td>\n",
       "      <td>1.0</td>\n",
       "      <td>0</td>\n",
       "    </tr>\n",
       "    <tr>\n",
       "      <th>4</th>\n",
       "      <td>0</td>\n",
       "      <td>0</td>\n",
       "      <td>46.0</td>\n",
       "      <td>112.0</td>\n",
       "      <td>2.0</td>\n",
       "      <td>12.0</td>\n",
       "      <td>63.0</td>\n",
       "      <td>24.83</td>\n",
       "      <td>20</td>\n",
       "      <td>10.0</td>\n",
       "      <td>6.0</td>\n",
       "      <td>2.0</td>\n",
       "      <td>0</td>\n",
       "    </tr>\n",
       "  </tbody>\n",
       "</table>\n",
       "</div>\n",
       "      <button class=\"colab-df-convert\" onclick=\"convertToInteractive('df-942a429b-359a-4dad-98ff-ac0360fe18c2')\"\n",
       "              title=\"Convert this dataframe to an interactive table.\"\n",
       "              style=\"display:none;\">\n",
       "        \n",
       "  <svg xmlns=\"http://www.w3.org/2000/svg\" height=\"24px\"viewBox=\"0 0 24 24\"\n",
       "       width=\"24px\">\n",
       "    <path d=\"M0 0h24v24H0V0z\" fill=\"none\"/>\n",
       "    <path d=\"M18.56 5.44l.94 2.06.94-2.06 2.06-.94-2.06-.94-.94-2.06-.94 2.06-2.06.94zm-11 1L8.5 8.5l.94-2.06 2.06-.94-2.06-.94L8.5 2.5l-.94 2.06-2.06.94zm10 10l.94 2.06.94-2.06 2.06-.94-2.06-.94-.94-2.06-.94 2.06-2.06.94z\"/><path d=\"M17.41 7.96l-1.37-1.37c-.4-.4-.92-.59-1.43-.59-.52 0-1.04.2-1.43.59L10.3 9.45l-7.72 7.72c-.78.78-.78 2.05 0 2.83L4 21.41c.39.39.9.59 1.41.59.51 0 1.02-.2 1.41-.59l7.78-7.78 2.81-2.81c.8-.78.8-2.07 0-2.86zM5.41 20L4 18.59l7.72-7.72 1.47 1.35L5.41 20z\"/>\n",
       "  </svg>\n",
       "      </button>\n",
       "      \n",
       "  <style>\n",
       "    .colab-df-container {\n",
       "      display:flex;\n",
       "      flex-wrap:wrap;\n",
       "      gap: 12px;\n",
       "    }\n",
       "\n",
       "    .colab-df-convert {\n",
       "      background-color: #E8F0FE;\n",
       "      border: none;\n",
       "      border-radius: 50%;\n",
       "      cursor: pointer;\n",
       "      display: none;\n",
       "      fill: #1967D2;\n",
       "      height: 32px;\n",
       "      padding: 0 0 0 0;\n",
       "      width: 32px;\n",
       "    }\n",
       "\n",
       "    .colab-df-convert:hover {\n",
       "      background-color: #E2EBFA;\n",
       "      box-shadow: 0px 1px 2px rgba(60, 64, 67, 0.3), 0px 1px 3px 1px rgba(60, 64, 67, 0.15);\n",
       "      fill: #174EA6;\n",
       "    }\n",
       "\n",
       "    [theme=dark] .colab-df-convert {\n",
       "      background-color: #3B4455;\n",
       "      fill: #D2E3FC;\n",
       "    }\n",
       "\n",
       "    [theme=dark] .colab-df-convert:hover {\n",
       "      background-color: #434B5C;\n",
       "      box-shadow: 0px 1px 3px 1px rgba(0, 0, 0, 0.15);\n",
       "      filter: drop-shadow(0px 1px 2px rgba(0, 0, 0, 0.3));\n",
       "      fill: #FFFFFF;\n",
       "    }\n",
       "  </style>\n",
       "\n",
       "      <script>\n",
       "        const buttonEl =\n",
       "          document.querySelector('#df-942a429b-359a-4dad-98ff-ac0360fe18c2 button.colab-df-convert');\n",
       "        buttonEl.style.display =\n",
       "          google.colab.kernel.accessAllowed ? 'block' : 'none';\n",
       "\n",
       "        async function convertToInteractive(key) {\n",
       "          const element = document.querySelector('#df-942a429b-359a-4dad-98ff-ac0360fe18c2');\n",
       "          const dataTable =\n",
       "            await google.colab.kernel.invokeFunction('convertToInteractive',\n",
       "                                                     [key], {});\n",
       "          if (!dataTable) return;\n",
       "\n",
       "          const docLinkHtml = 'Like what you see? Visit the ' +\n",
       "            '<a target=\"_blank\" href=https://colab.research.google.com/notebooks/data_table.ipynb>data table notebook</a>'\n",
       "            + ' to learn more about interactive tables.';\n",
       "          element.innerHTML = '';\n",
       "          dataTable['output_type'] = 'display_data';\n",
       "          await google.colab.output.renderOutput(dataTable, element);\n",
       "          const docLink = document.createElement('div');\n",
       "          docLink.innerHTML = docLinkHtml;\n",
       "          element.appendChild(docLink);\n",
       "        }\n",
       "      </script>\n",
       "    </div>\n",
       "  </div>\n",
       "  "
      ],
      "text/plain": [
       "   GENDER  IS_GLOGIN  FOLLOWER_COUNT  FOLLOWING_COUNT  DATASET_COUNT  \\\n",
       "0       1          0            53.0             87.0            5.0   \n",
       "1       1          1            16.0             67.0            5.0   \n",
       "2       1          1            44.0             81.0            4.0   \n",
       "3       1          1            23.0            114.0            5.0   \n",
       "4       0          0            46.0            112.0            2.0   \n",
       "\n",
       "   CODE_COUNT  DISCUSSION_COUNT  AVG_NB_READ_TIME_MIN  REGISTRATION_LOCATION  \\\n",
       "0         3.0             124.0                 12.17                      9   \n",
       "1        10.0              26.0                 24.97                    155   \n",
       "2        17.0             125.0                  7.75                     51   \n",
       "3        24.0              67.0                 13.40                    106   \n",
       "4        12.0              63.0                 24.83                     20   \n",
       "\n",
       "   TOTAL_VOTES_GAVE_NB  TOTAL_VOTES_GAVE_DS  TOTAL_VOTES_GAVE_DC  ISBOT  \n",
       "0                 16.0                 10.0                  3.0      0  \n",
       "1                 14.0                  5.0                  2.0      0  \n",
       "2                 16.0                  4.0                  0.0      0  \n",
       "3                 21.0                 10.0                  1.0      0  \n",
       "4                 10.0                  6.0                  2.0      0  "
      ]
     },
     "execution_count": 51,
     "metadata": {},
     "output_type": "execute_result"
    }
   ],
   "source": [
    "df.head()"
   ]
  },
  {
   "cell_type": "markdown",
   "metadata": {
    "id": "K5PpcpIUD_nR"
   },
   "source": [
    "### **Splitting the data**"
   ]
  },
  {
   "cell_type": "code",
   "execution_count": 52,
   "metadata": {
    "id": "fCj94gQnD_nS"
   },
   "outputs": [],
   "source": [
    "features_=df.drop('ISBOT',axis=1)\n",
    "y_label=df[['ISBOT']]"
   ]
  },
  {
   "cell_type": "markdown",
   "metadata": {
    "id": "9-mdP79gD_nS"
   },
   "source": [
    "### **Scaling**"
   ]
  },
  {
   "cell_type": "code",
   "execution_count": 53,
   "metadata": {
    "id": "fv1lwHbAD_nS"
   },
   "outputs": [],
   "source": [
    "from sklearn.preprocessing import StandardScaler"
   ]
  },
  {
   "cell_type": "code",
   "execution_count": 54,
   "metadata": {
    "id": "XdX01V4mD_nS"
   },
   "outputs": [],
   "source": [
    "scaler=StandardScaler()"
   ]
  },
  {
   "cell_type": "code",
   "execution_count": 55,
   "metadata": {
    "id": "ubXS7YmlD_nS"
   },
   "outputs": [],
   "source": [
    "clmn_names=features_.columns"
   ]
  },
  {
   "cell_type": "code",
   "execution_count": 56,
   "metadata": {
    "id": "hON2qBQSD_nT"
   },
   "outputs": [],
   "source": [
    "scaled=scaler.fit_transform(features_)"
   ]
  },
  {
   "cell_type": "code",
   "execution_count": 57,
   "metadata": {
    "id": "bI_OMGziD_nT"
   },
   "outputs": [],
   "source": [
    "features=pd.DataFrame(scaled,columns=clmn_names)"
   ]
  },
  {
   "cell_type": "code",
   "execution_count": 58,
   "metadata": {
    "colab": {
     "base_uri": "https://localhost:8080/",
     "height": 488
    },
    "id": "X6N3Oc6yD_nT",
    "outputId": "a9b7b51c-e092-4a49-9deb-a498faf495b4"
   },
   "outputs": [
    {
     "data": {
      "text/html": [
       "\n",
       "  <div id=\"df-183a3f2d-096f-4e7b-b88b-1a7d44af8a5e\">\n",
       "    <div class=\"colab-df-container\">\n",
       "      <div>\n",
       "<style scoped>\n",
       "    .dataframe tbody tr th:only-of-type {\n",
       "        vertical-align: middle;\n",
       "    }\n",
       "\n",
       "    .dataframe tbody tr th {\n",
       "        vertical-align: top;\n",
       "    }\n",
       "\n",
       "    .dataframe thead th {\n",
       "        text-align: right;\n",
       "    }\n",
       "</style>\n",
       "<table border=\"1\" class=\"dataframe\">\n",
       "  <thead>\n",
       "    <tr style=\"text-align: right;\">\n",
       "      <th></th>\n",
       "      <th>GENDER</th>\n",
       "      <th>IS_GLOGIN</th>\n",
       "      <th>FOLLOWER_COUNT</th>\n",
       "      <th>FOLLOWING_COUNT</th>\n",
       "      <th>DATASET_COUNT</th>\n",
       "      <th>CODE_COUNT</th>\n",
       "      <th>DISCUSSION_COUNT</th>\n",
       "      <th>AVG_NB_READ_TIME_MIN</th>\n",
       "      <th>REGISTRATION_LOCATION</th>\n",
       "      <th>TOTAL_VOTES_GAVE_NB</th>\n",
       "      <th>TOTAL_VOTES_GAVE_DS</th>\n",
       "      <th>TOTAL_VOTES_GAVE_DC</th>\n",
       "    </tr>\n",
       "  </thead>\n",
       "  <tbody>\n",
       "    <tr>\n",
       "      <th>0</th>\n",
       "      <td>0.554954</td>\n",
       "      <td>-0.720670</td>\n",
       "      <td>1.184678</td>\n",
       "      <td>1.114619</td>\n",
       "      <td>1.025417</td>\n",
       "      <td>-0.907953</td>\n",
       "      <td>1.268551</td>\n",
       "      <td>-0.052999</td>\n",
       "      <td>-1.633818</td>\n",
       "      <td>-0.327251</td>\n",
       "      <td>1.556925</td>\n",
       "      <td>1.343403</td>\n",
       "    </tr>\n",
       "    <tr>\n",
       "      <th>1</th>\n",
       "      <td>0.554954</td>\n",
       "      <td>1.387598</td>\n",
       "      <td>-0.476426</td>\n",
       "      <td>0.593234</td>\n",
       "      <td>1.025417</td>\n",
       "      <td>-0.034572</td>\n",
       "      <td>-0.851842</td>\n",
       "      <td>1.320008</td>\n",
       "      <td>0.506425</td>\n",
       "      <td>-0.774485</td>\n",
       "      <td>-0.693942</td>\n",
       "      <td>0.427608</td>\n",
       "    </tr>\n",
       "    <tr>\n",
       "      <th>2</th>\n",
       "      <td>0.554954</td>\n",
       "      <td>1.387598</td>\n",
       "      <td>0.780625</td>\n",
       "      <td>0.958204</td>\n",
       "      <td>0.613640</td>\n",
       "      <td>0.838808</td>\n",
       "      <td>1.290188</td>\n",
       "      <td>-0.527116</td>\n",
       "      <td>-1.018132</td>\n",
       "      <td>-0.327251</td>\n",
       "      <td>-1.144115</td>\n",
       "      <td>-1.403983</td>\n",
       "    </tr>\n",
       "    <tr>\n",
       "      <th>3</th>\n",
       "      <td>0.554954</td>\n",
       "      <td>1.387598</td>\n",
       "      <td>-0.162163</td>\n",
       "      <td>1.818490</td>\n",
       "      <td>1.025417</td>\n",
       "      <td>1.712189</td>\n",
       "      <td>0.035261</td>\n",
       "      <td>0.078938</td>\n",
       "      <td>-0.211876</td>\n",
       "      <td>0.790834</td>\n",
       "      <td>1.556925</td>\n",
       "      <td>-0.488188</td>\n",
       "    </tr>\n",
       "    <tr>\n",
       "      <th>4</th>\n",
       "      <td>-1.801951</td>\n",
       "      <td>-0.720670</td>\n",
       "      <td>0.870415</td>\n",
       "      <td>1.766351</td>\n",
       "      <td>-0.209914</td>\n",
       "      <td>0.214965</td>\n",
       "      <td>-0.051285</td>\n",
       "      <td>1.304991</td>\n",
       "      <td>-1.472567</td>\n",
       "      <td>-1.668952</td>\n",
       "      <td>-0.243769</td>\n",
       "      <td>0.427608</td>\n",
       "    </tr>\n",
       "    <tr>\n",
       "      <th>...</th>\n",
       "      <td>...</td>\n",
       "      <td>...</td>\n",
       "      <td>...</td>\n",
       "      <td>...</td>\n",
       "      <td>...</td>\n",
       "      <td>...</td>\n",
       "      <td>...</td>\n",
       "      <td>...</td>\n",
       "      <td>...</td>\n",
       "      <td>...</td>\n",
       "      <td>...</td>\n",
       "      <td>...</td>\n",
       "    </tr>\n",
       "    <tr>\n",
       "      <th>41068</th>\n",
       "      <td>-1.801951</td>\n",
       "      <td>-0.720670</td>\n",
       "      <td>-0.162163</td>\n",
       "      <td>1.010342</td>\n",
       "      <td>-0.621691</td>\n",
       "      <td>-0.533647</td>\n",
       "      <td>1.225278</td>\n",
       "      <td>1.398313</td>\n",
       "      <td>0.843586</td>\n",
       "      <td>1.461685</td>\n",
       "      <td>-0.693942</td>\n",
       "      <td>-0.488188</td>\n",
       "    </tr>\n",
       "    <tr>\n",
       "      <th>41069</th>\n",
       "      <td>-1.801951</td>\n",
       "      <td>1.387598</td>\n",
       "      <td>-1.015163</td>\n",
       "      <td>-0.918785</td>\n",
       "      <td>-1.033468</td>\n",
       "      <td>0.838808</td>\n",
       "      <td>1.095458</td>\n",
       "      <td>-0.665489</td>\n",
       "      <td>-0.461082</td>\n",
       "      <td>1.461685</td>\n",
       "      <td>1.106751</td>\n",
       "      <td>1.343403</td>\n",
       "    </tr>\n",
       "    <tr>\n",
       "      <th>41070</th>\n",
       "      <td>0.554954</td>\n",
       "      <td>-0.720670</td>\n",
       "      <td>1.454046</td>\n",
       "      <td>1.218897</td>\n",
       "      <td>-0.209914</td>\n",
       "      <td>-0.783185</td>\n",
       "      <td>1.766195</td>\n",
       "      <td>-0.453102</td>\n",
       "      <td>-1.765751</td>\n",
       "      <td>-0.103634</td>\n",
       "      <td>-1.594288</td>\n",
       "      <td>0.427608</td>\n",
       "    </tr>\n",
       "    <tr>\n",
       "      <th>41071</th>\n",
       "      <td>-1.801951</td>\n",
       "      <td>-0.720670</td>\n",
       "      <td>0.825520</td>\n",
       "      <td>1.479589</td>\n",
       "      <td>1.848972</td>\n",
       "      <td>0.339734</td>\n",
       "      <td>1.506555</td>\n",
       "      <td>-0.755593</td>\n",
       "      <td>1.385976</td>\n",
       "      <td>-0.998102</td>\n",
       "      <td>-0.243769</td>\n",
       "      <td>1.343403</td>\n",
       "    </tr>\n",
       "    <tr>\n",
       "      <th>41072</th>\n",
       "      <td>0.554954</td>\n",
       "      <td>1.387598</td>\n",
       "      <td>-0.925373</td>\n",
       "      <td>-1.075200</td>\n",
       "      <td>-0.621691</td>\n",
       "      <td>-0.034572</td>\n",
       "      <td>-0.808569</td>\n",
       "      <td>-0.052999</td>\n",
       "      <td>-0.094603</td>\n",
       "      <td>-0.103634</td>\n",
       "      <td>0.206405</td>\n",
       "      <td>0.427608</td>\n",
       "    </tr>\n",
       "  </tbody>\n",
       "</table>\n",
       "<p>41073 rows × 12 columns</p>\n",
       "</div>\n",
       "      <button class=\"colab-df-convert\" onclick=\"convertToInteractive('df-183a3f2d-096f-4e7b-b88b-1a7d44af8a5e')\"\n",
       "              title=\"Convert this dataframe to an interactive table.\"\n",
       "              style=\"display:none;\">\n",
       "        \n",
       "  <svg xmlns=\"http://www.w3.org/2000/svg\" height=\"24px\"viewBox=\"0 0 24 24\"\n",
       "       width=\"24px\">\n",
       "    <path d=\"M0 0h24v24H0V0z\" fill=\"none\"/>\n",
       "    <path d=\"M18.56 5.44l.94 2.06.94-2.06 2.06-.94-2.06-.94-.94-2.06-.94 2.06-2.06.94zm-11 1L8.5 8.5l.94-2.06 2.06-.94-2.06-.94L8.5 2.5l-.94 2.06-2.06.94zm10 10l.94 2.06.94-2.06 2.06-.94-2.06-.94-.94-2.06-.94 2.06-2.06.94z\"/><path d=\"M17.41 7.96l-1.37-1.37c-.4-.4-.92-.59-1.43-.59-.52 0-1.04.2-1.43.59L10.3 9.45l-7.72 7.72c-.78.78-.78 2.05 0 2.83L4 21.41c.39.39.9.59 1.41.59.51 0 1.02-.2 1.41-.59l7.78-7.78 2.81-2.81c.8-.78.8-2.07 0-2.86zM5.41 20L4 18.59l7.72-7.72 1.47 1.35L5.41 20z\"/>\n",
       "  </svg>\n",
       "      </button>\n",
       "      \n",
       "  <style>\n",
       "    .colab-df-container {\n",
       "      display:flex;\n",
       "      flex-wrap:wrap;\n",
       "      gap: 12px;\n",
       "    }\n",
       "\n",
       "    .colab-df-convert {\n",
       "      background-color: #E8F0FE;\n",
       "      border: none;\n",
       "      border-radius: 50%;\n",
       "      cursor: pointer;\n",
       "      display: none;\n",
       "      fill: #1967D2;\n",
       "      height: 32px;\n",
       "      padding: 0 0 0 0;\n",
       "      width: 32px;\n",
       "    }\n",
       "\n",
       "    .colab-df-convert:hover {\n",
       "      background-color: #E2EBFA;\n",
       "      box-shadow: 0px 1px 2px rgba(60, 64, 67, 0.3), 0px 1px 3px 1px rgba(60, 64, 67, 0.15);\n",
       "      fill: #174EA6;\n",
       "    }\n",
       "\n",
       "    [theme=dark] .colab-df-convert {\n",
       "      background-color: #3B4455;\n",
       "      fill: #D2E3FC;\n",
       "    }\n",
       "\n",
       "    [theme=dark] .colab-df-convert:hover {\n",
       "      background-color: #434B5C;\n",
       "      box-shadow: 0px 1px 3px 1px rgba(0, 0, 0, 0.15);\n",
       "      filter: drop-shadow(0px 1px 2px rgba(0, 0, 0, 0.3));\n",
       "      fill: #FFFFFF;\n",
       "    }\n",
       "  </style>\n",
       "\n",
       "      <script>\n",
       "        const buttonEl =\n",
       "          document.querySelector('#df-183a3f2d-096f-4e7b-b88b-1a7d44af8a5e button.colab-df-convert');\n",
       "        buttonEl.style.display =\n",
       "          google.colab.kernel.accessAllowed ? 'block' : 'none';\n",
       "\n",
       "        async function convertToInteractive(key) {\n",
       "          const element = document.querySelector('#df-183a3f2d-096f-4e7b-b88b-1a7d44af8a5e');\n",
       "          const dataTable =\n",
       "            await google.colab.kernel.invokeFunction('convertToInteractive',\n",
       "                                                     [key], {});\n",
       "          if (!dataTable) return;\n",
       "\n",
       "          const docLinkHtml = 'Like what you see? Visit the ' +\n",
       "            '<a target=\"_blank\" href=https://colab.research.google.com/notebooks/data_table.ipynb>data table notebook</a>'\n",
       "            + ' to learn more about interactive tables.';\n",
       "          element.innerHTML = '';\n",
       "          dataTable['output_type'] = 'display_data';\n",
       "          await google.colab.output.renderOutput(dataTable, element);\n",
       "          const docLink = document.createElement('div');\n",
       "          docLink.innerHTML = docLinkHtml;\n",
       "          element.appendChild(docLink);\n",
       "        }\n",
       "      </script>\n",
       "    </div>\n",
       "  </div>\n",
       "  "
      ],
      "text/plain": [
       "         GENDER  IS_GLOGIN  FOLLOWER_COUNT  FOLLOWING_COUNT  DATASET_COUNT  \\\n",
       "0      0.554954  -0.720670        1.184678         1.114619       1.025417   \n",
       "1      0.554954   1.387598       -0.476426         0.593234       1.025417   \n",
       "2      0.554954   1.387598        0.780625         0.958204       0.613640   \n",
       "3      0.554954   1.387598       -0.162163         1.818490       1.025417   \n",
       "4     -1.801951  -0.720670        0.870415         1.766351      -0.209914   \n",
       "...         ...        ...             ...              ...            ...   \n",
       "41068 -1.801951  -0.720670       -0.162163         1.010342      -0.621691   \n",
       "41069 -1.801951   1.387598       -1.015163        -0.918785      -1.033468   \n",
       "41070  0.554954  -0.720670        1.454046         1.218897      -0.209914   \n",
       "41071 -1.801951  -0.720670        0.825520         1.479589       1.848972   \n",
       "41072  0.554954   1.387598       -0.925373        -1.075200      -0.621691   \n",
       "\n",
       "       CODE_COUNT  DISCUSSION_COUNT  AVG_NB_READ_TIME_MIN  \\\n",
       "0       -0.907953          1.268551             -0.052999   \n",
       "1       -0.034572         -0.851842              1.320008   \n",
       "2        0.838808          1.290188             -0.527116   \n",
       "3        1.712189          0.035261              0.078938   \n",
       "4        0.214965         -0.051285              1.304991   \n",
       "...           ...               ...                   ...   \n",
       "41068   -0.533647          1.225278              1.398313   \n",
       "41069    0.838808          1.095458             -0.665489   \n",
       "41070   -0.783185          1.766195             -0.453102   \n",
       "41071    0.339734          1.506555             -0.755593   \n",
       "41072   -0.034572         -0.808569             -0.052999   \n",
       "\n",
       "       REGISTRATION_LOCATION  TOTAL_VOTES_GAVE_NB  TOTAL_VOTES_GAVE_DS  \\\n",
       "0                  -1.633818            -0.327251             1.556925   \n",
       "1                   0.506425            -0.774485            -0.693942   \n",
       "2                  -1.018132            -0.327251            -1.144115   \n",
       "3                  -0.211876             0.790834             1.556925   \n",
       "4                  -1.472567            -1.668952            -0.243769   \n",
       "...                      ...                  ...                  ...   \n",
       "41068               0.843586             1.461685            -0.693942   \n",
       "41069              -0.461082             1.461685             1.106751   \n",
       "41070              -1.765751            -0.103634            -1.594288   \n",
       "41071               1.385976            -0.998102            -0.243769   \n",
       "41072              -0.094603            -0.103634             0.206405   \n",
       "\n",
       "       TOTAL_VOTES_GAVE_DC  \n",
       "0                 1.343403  \n",
       "1                 0.427608  \n",
       "2                -1.403983  \n",
       "3                -0.488188  \n",
       "4                 0.427608  \n",
       "...                    ...  \n",
       "41068            -0.488188  \n",
       "41069             1.343403  \n",
       "41070             0.427608  \n",
       "41071             1.343403  \n",
       "41072             0.427608  \n",
       "\n",
       "[41073 rows x 12 columns]"
      ]
     },
     "execution_count": 58,
     "metadata": {},
     "output_type": "execute_result"
    }
   ],
   "source": [
    "features"
   ]
  },
  {
   "cell_type": "markdown",
   "metadata": {
    "id": "gED_ewFQD_nT"
   },
   "source": [
    "### **Train,Test and Split**"
   ]
  },
  {
   "cell_type": "code",
   "execution_count": 59,
   "metadata": {
    "id": "UilLzATRD_nU"
   },
   "outputs": [],
   "source": [
    "from sklearn.model_selection import train_test_split"
   ]
  },
  {
   "cell_type": "code",
   "execution_count": 60,
   "metadata": {
    "id": "jgvZz5QOD_nU"
   },
   "outputs": [],
   "source": [
    "x_train,x_test,y_train,y_test=train_test_split(features,y_label,train_size=0.8,stratify=y_label,random_state=42)"
   ]
  },
  {
   "cell_type": "code",
   "execution_count": 61,
   "metadata": {
    "colab": {
     "base_uri": "https://localhost:8080/",
     "height": 270
    },
    "id": "P5X7bQ04D_nU",
    "outputId": "f1604a32-6343-4390-8f5f-396474d8c417"
   },
   "outputs": [
    {
     "data": {
      "text/html": [
       "\n",
       "  <div id=\"df-426b3ce2-95c9-458a-b247-339589a695e5\">\n",
       "    <div class=\"colab-df-container\">\n",
       "      <div>\n",
       "<style scoped>\n",
       "    .dataframe tbody tr th:only-of-type {\n",
       "        vertical-align: middle;\n",
       "    }\n",
       "\n",
       "    .dataframe tbody tr th {\n",
       "        vertical-align: top;\n",
       "    }\n",
       "\n",
       "    .dataframe thead th {\n",
       "        text-align: right;\n",
       "    }\n",
       "</style>\n",
       "<table border=\"1\" class=\"dataframe\">\n",
       "  <thead>\n",
       "    <tr style=\"text-align: right;\">\n",
       "      <th></th>\n",
       "      <th>GENDER</th>\n",
       "      <th>IS_GLOGIN</th>\n",
       "      <th>FOLLOWER_COUNT</th>\n",
       "      <th>FOLLOWING_COUNT</th>\n",
       "      <th>DATASET_COUNT</th>\n",
       "      <th>CODE_COUNT</th>\n",
       "      <th>DISCUSSION_COUNT</th>\n",
       "      <th>AVG_NB_READ_TIME_MIN</th>\n",
       "      <th>REGISTRATION_LOCATION</th>\n",
       "      <th>TOTAL_VOTES_GAVE_NB</th>\n",
       "      <th>TOTAL_VOTES_GAVE_DS</th>\n",
       "      <th>TOTAL_VOTES_GAVE_DC</th>\n",
       "    </tr>\n",
       "  </thead>\n",
       "  <tbody>\n",
       "    <tr>\n",
       "      <th>2241</th>\n",
       "      <td>-1.801951</td>\n",
       "      <td>1.387598</td>\n",
       "      <td>-0.251953</td>\n",
       "      <td>0.436818</td>\n",
       "      <td>-0.209914</td>\n",
       "      <td>0.838808</td>\n",
       "      <td>0.749271</td>\n",
       "      <td>1.490562</td>\n",
       "      <td>-0.094603</td>\n",
       "      <td>-1.445335</td>\n",
       "      <td>-0.693942</td>\n",
       "      <td>-0.488188</td>\n",
       "    </tr>\n",
       "    <tr>\n",
       "      <th>13644</th>\n",
       "      <td>0.554954</td>\n",
       "      <td>1.387598</td>\n",
       "      <td>1.947888</td>\n",
       "      <td>1.818490</td>\n",
       "      <td>1.437195</td>\n",
       "      <td>1.587421</td>\n",
       "      <td>0.489631</td>\n",
       "      <td>-0.044418</td>\n",
       "      <td>0.696994</td>\n",
       "      <td>-1.221719</td>\n",
       "      <td>1.556925</td>\n",
       "      <td>-0.488188</td>\n",
       "    </tr>\n",
       "    <tr>\n",
       "      <th>22271</th>\n",
       "      <td>0.554954</td>\n",
       "      <td>-0.720670</td>\n",
       "      <td>1.274467</td>\n",
       "      <td>1.714213</td>\n",
       "      <td>0.201863</td>\n",
       "      <td>1.836958</td>\n",
       "      <td>-0.029649</td>\n",
       "      <td>0.421118</td>\n",
       "      <td>-0.211876</td>\n",
       "      <td>-0.103634</td>\n",
       "      <td>-1.594288</td>\n",
       "      <td>-1.403983</td>\n",
       "    </tr>\n",
       "    <tr>\n",
       "      <th>34073</th>\n",
       "      <td>0.554954</td>\n",
       "      <td>-0.720670</td>\n",
       "      <td>-1.194741</td>\n",
       "      <td>-1.101270</td>\n",
       "      <td>-1.033468</td>\n",
       "      <td>-1.157491</td>\n",
       "      <td>-1.306212</td>\n",
       "      <td>-1.304796</td>\n",
       "      <td>-1.751092</td>\n",
       "      <td>-0.998102</td>\n",
       "      <td>-0.243769</td>\n",
       "      <td>0.427608</td>\n",
       "    </tr>\n",
       "    <tr>\n",
       "      <th>26371</th>\n",
       "      <td>0.554954</td>\n",
       "      <td>1.387598</td>\n",
       "      <td>1.498941</td>\n",
       "      <td>0.515026</td>\n",
       "      <td>1.025417</td>\n",
       "      <td>1.712189</td>\n",
       "      <td>1.268551</td>\n",
       "      <td>1.772672</td>\n",
       "      <td>-0.695630</td>\n",
       "      <td>-1.445335</td>\n",
       "      <td>1.556925</td>\n",
       "      <td>-1.403983</td>\n",
       "    </tr>\n",
       "  </tbody>\n",
       "</table>\n",
       "</div>\n",
       "      <button class=\"colab-df-convert\" onclick=\"convertToInteractive('df-426b3ce2-95c9-458a-b247-339589a695e5')\"\n",
       "              title=\"Convert this dataframe to an interactive table.\"\n",
       "              style=\"display:none;\">\n",
       "        \n",
       "  <svg xmlns=\"http://www.w3.org/2000/svg\" height=\"24px\"viewBox=\"0 0 24 24\"\n",
       "       width=\"24px\">\n",
       "    <path d=\"M0 0h24v24H0V0z\" fill=\"none\"/>\n",
       "    <path d=\"M18.56 5.44l.94 2.06.94-2.06 2.06-.94-2.06-.94-.94-2.06-.94 2.06-2.06.94zm-11 1L8.5 8.5l.94-2.06 2.06-.94-2.06-.94L8.5 2.5l-.94 2.06-2.06.94zm10 10l.94 2.06.94-2.06 2.06-.94-2.06-.94-.94-2.06-.94 2.06-2.06.94z\"/><path d=\"M17.41 7.96l-1.37-1.37c-.4-.4-.92-.59-1.43-.59-.52 0-1.04.2-1.43.59L10.3 9.45l-7.72 7.72c-.78.78-.78 2.05 0 2.83L4 21.41c.39.39.9.59 1.41.59.51 0 1.02-.2 1.41-.59l7.78-7.78 2.81-2.81c.8-.78.8-2.07 0-2.86zM5.41 20L4 18.59l7.72-7.72 1.47 1.35L5.41 20z\"/>\n",
       "  </svg>\n",
       "      </button>\n",
       "      \n",
       "  <style>\n",
       "    .colab-df-container {\n",
       "      display:flex;\n",
       "      flex-wrap:wrap;\n",
       "      gap: 12px;\n",
       "    }\n",
       "\n",
       "    .colab-df-convert {\n",
       "      background-color: #E8F0FE;\n",
       "      border: none;\n",
       "      border-radius: 50%;\n",
       "      cursor: pointer;\n",
       "      display: none;\n",
       "      fill: #1967D2;\n",
       "      height: 32px;\n",
       "      padding: 0 0 0 0;\n",
       "      width: 32px;\n",
       "    }\n",
       "\n",
       "    .colab-df-convert:hover {\n",
       "      background-color: #E2EBFA;\n",
       "      box-shadow: 0px 1px 2px rgba(60, 64, 67, 0.3), 0px 1px 3px 1px rgba(60, 64, 67, 0.15);\n",
       "      fill: #174EA6;\n",
       "    }\n",
       "\n",
       "    [theme=dark] .colab-df-convert {\n",
       "      background-color: #3B4455;\n",
       "      fill: #D2E3FC;\n",
       "    }\n",
       "\n",
       "    [theme=dark] .colab-df-convert:hover {\n",
       "      background-color: #434B5C;\n",
       "      box-shadow: 0px 1px 3px 1px rgba(0, 0, 0, 0.15);\n",
       "      filter: drop-shadow(0px 1px 2px rgba(0, 0, 0, 0.3));\n",
       "      fill: #FFFFFF;\n",
       "    }\n",
       "  </style>\n",
       "\n",
       "      <script>\n",
       "        const buttonEl =\n",
       "          document.querySelector('#df-426b3ce2-95c9-458a-b247-339589a695e5 button.colab-df-convert');\n",
       "        buttonEl.style.display =\n",
       "          google.colab.kernel.accessAllowed ? 'block' : 'none';\n",
       "\n",
       "        async function convertToInteractive(key) {\n",
       "          const element = document.querySelector('#df-426b3ce2-95c9-458a-b247-339589a695e5');\n",
       "          const dataTable =\n",
       "            await google.colab.kernel.invokeFunction('convertToInteractive',\n",
       "                                                     [key], {});\n",
       "          if (!dataTable) return;\n",
       "\n",
       "          const docLinkHtml = 'Like what you see? Visit the ' +\n",
       "            '<a target=\"_blank\" href=https://colab.research.google.com/notebooks/data_table.ipynb>data table notebook</a>'\n",
       "            + ' to learn more about interactive tables.';\n",
       "          element.innerHTML = '';\n",
       "          dataTable['output_type'] = 'display_data';\n",
       "          await google.colab.output.renderOutput(dataTable, element);\n",
       "          const docLink = document.createElement('div');\n",
       "          docLink.innerHTML = docLinkHtml;\n",
       "          element.appendChild(docLink);\n",
       "        }\n",
       "      </script>\n",
       "    </div>\n",
       "  </div>\n",
       "  "
      ],
      "text/plain": [
       "         GENDER  IS_GLOGIN  FOLLOWER_COUNT  FOLLOWING_COUNT  DATASET_COUNT  \\\n",
       "2241  -1.801951   1.387598       -0.251953         0.436818      -0.209914   \n",
       "13644  0.554954   1.387598        1.947888         1.818490       1.437195   \n",
       "22271  0.554954  -0.720670        1.274467         1.714213       0.201863   \n",
       "34073  0.554954  -0.720670       -1.194741        -1.101270      -1.033468   \n",
       "26371  0.554954   1.387598        1.498941         0.515026       1.025417   \n",
       "\n",
       "       CODE_COUNT  DISCUSSION_COUNT  AVG_NB_READ_TIME_MIN  \\\n",
       "2241     0.838808          0.749271              1.490562   \n",
       "13644    1.587421          0.489631             -0.044418   \n",
       "22271    1.836958         -0.029649              0.421118   \n",
       "34073   -1.157491         -1.306212             -1.304796   \n",
       "26371    1.712189          1.268551              1.772672   \n",
       "\n",
       "       REGISTRATION_LOCATION  TOTAL_VOTES_GAVE_NB  TOTAL_VOTES_GAVE_DS  \\\n",
       "2241               -0.094603            -1.445335            -0.693942   \n",
       "13644               0.696994            -1.221719             1.556925   \n",
       "22271              -0.211876            -0.103634            -1.594288   \n",
       "34073              -1.751092            -0.998102            -0.243769   \n",
       "26371              -0.695630            -1.445335             1.556925   \n",
       "\n",
       "       TOTAL_VOTES_GAVE_DC  \n",
       "2241             -0.488188  \n",
       "13644            -0.488188  \n",
       "22271            -1.403983  \n",
       "34073             0.427608  \n",
       "26371            -1.403983  "
      ]
     },
     "execution_count": 61,
     "metadata": {},
     "output_type": "execute_result"
    }
   ],
   "source": [
    "x_train.head()"
   ]
  },
  {
   "cell_type": "code",
   "execution_count": 62,
   "metadata": {
    "colab": {
     "base_uri": "https://localhost:8080/"
    },
    "id": "Fe3DtVN6D_nU",
    "outputId": "9850495c-6d01-4b5c-8dc5-306811286285"
   },
   "outputs": [
    {
     "data": {
      "text/plain": [
       "(32858, 12)"
      ]
     },
     "execution_count": 62,
     "metadata": {},
     "output_type": "execute_result"
    }
   ],
   "source": [
    "x_train.shape"
   ]
  },
  {
   "cell_type": "code",
   "execution_count": 63,
   "metadata": {
    "colab": {
     "base_uri": "https://localhost:8080/"
    },
    "id": "TZyRlYAgD_nU",
    "outputId": "6bbcfd15-e684-4d92-ae89-7babd4da263f"
   },
   "outputs": [
    {
     "data": {
      "text/plain": [
       "(32858, 1)"
      ]
     },
     "execution_count": 63,
     "metadata": {},
     "output_type": "execute_result"
    }
   ],
   "source": [
    "y_train.shape"
   ]
  },
  {
   "cell_type": "code",
   "execution_count": 64,
   "metadata": {
    "colab": {
     "base_uri": "https://localhost:8080/"
    },
    "id": "HMksQv3WD_nV",
    "outputId": "96517909-d9d2-4388-fdec-10b93343583b"
   },
   "outputs": [
    {
     "data": {
      "text/plain": [
       "(8215, 12)"
      ]
     },
     "execution_count": 64,
     "metadata": {},
     "output_type": "execute_result"
    }
   ],
   "source": [
    "x_test.shape"
   ]
  },
  {
   "cell_type": "code",
   "execution_count": 65,
   "metadata": {
    "colab": {
     "base_uri": "https://localhost:8080/"
    },
    "id": "RPS5War6D_nV",
    "outputId": "fae2861f-1e94-4302-c836-61e7307b9bb8"
   },
   "outputs": [
    {
     "data": {
      "text/plain": [
       "(8215, 1)"
      ]
     },
     "execution_count": 65,
     "metadata": {},
     "output_type": "execute_result"
    }
   ],
   "source": [
    "y_test.shape"
   ]
  },
  {
   "cell_type": "markdown",
   "metadata": {},
   "source": [
    "## headline1"
   ]
  },
  {
   "cell_type": "markdown",
   "metadata": {
    "id": "YGKJQEq9D_nV"
   },
   "source": [
    "### **Balancing**"
   ]
  },
  {
   "cell_type": "code",
   "execution_count": 66,
   "metadata": {
    "colab": {
     "base_uri": "https://localhost:8080/"
    },
    "id": "jPtv3b3eKnzD",
    "outputId": "8865d9fd-7b2b-4970-b908-4ed21daa7e07"
   },
   "outputs": [
    {
     "name": "stdout",
     "output_type": "stream",
     "text": [
      "Looking in indexes: https://pypi.org/simple, https://us-python.pkg.dev/colab-wheels/public/simple/\n",
      "Requirement already satisfied: imblearn in /usr/local/lib/python3.9/dist-packages (0.0)\n",
      "Requirement already satisfied: imbalanced-learn in /usr/local/lib/python3.9/dist-packages (from imblearn) (0.8.1)\n",
      "Requirement already satisfied: scipy>=0.19.1 in /usr/local/lib/python3.9/dist-packages (from imbalanced-learn->imblearn) (1.10.1)\n",
      "Requirement already satisfied: scikit-learn>=0.24 in /usr/local/lib/python3.9/dist-packages (from imbalanced-learn->imblearn) (1.2.1)\n",
      "Requirement already satisfied: joblib>=0.11 in /usr/local/lib/python3.9/dist-packages (from imbalanced-learn->imblearn) (1.2.0)\n",
      "Requirement already satisfied: numpy>=1.13.3 in /usr/local/lib/python3.9/dist-packages (from imbalanced-learn->imblearn) (1.22.4)\n",
      "Requirement already satisfied: threadpoolctl>=2.0.0 in /usr/local/lib/python3.9/dist-packages (from scikit-learn>=0.24->imbalanced-learn->imblearn) (3.1.0)\n"
     ]
    }
   ],
   "source": [
    "pip install imblearn"
   ]
  },
  {
   "cell_type": "code",
   "execution_count": 67,
   "metadata": {
    "id": "7Hqo9rc9D_nV"
   },
   "outputs": [],
   "source": [
    "from imblearn.over_sampling import SMOTE"
   ]
  },
  {
   "cell_type": "code",
   "execution_count": 68,
   "metadata": {
    "id": "3DSiKllbD_nV"
   },
   "outputs": [],
   "source": [
    "smote=SMOTE(sampling_strategy=1)"
   ]
  },
  {
   "cell_type": "code",
   "execution_count": 69,
   "metadata": {
    "id": "yceudolHD_nW"
   },
   "outputs": [],
   "source": [
    "x_train,y_train=smote.fit_resample(x_train,y_train)"
   ]
  },
  {
   "cell_type": "code",
   "execution_count": 70,
   "metadata": {
    "colab": {
     "base_uri": "https://localhost:8080/"
    },
    "id": "GKdHNvt-D_nW",
    "outputId": "114db232-8cdd-4c74-be6d-c9abf02aeb2d"
   },
   "outputs": [
    {
     "data": {
      "text/plain": [
       "ISBOT\n",
       "0        24439\n",
       "1        24439\n",
       "dtype: int64"
      ]
     },
     "execution_count": 70,
     "metadata": {},
     "output_type": "execute_result"
    }
   ],
   "source": [
    "pd.DataFrame(y_train).value_counts()"
   ]
  },
  {
   "cell_type": "markdown",
   "metadata": {
    "id": "FQDmg7GCD_nW"
   },
   "source": [
    "### **Model Building**"
   ]
  },
  {
   "cell_type": "markdown",
   "metadata": {
    "id": "HUgWutl5hzNg"
   },
   "source": [
    "**KNN**"
   ]
  },
  {
   "cell_type": "code",
   "execution_count": 71,
   "metadata": {
    "id": "O5Q4KPl73UHV"
   },
   "outputs": [],
   "source": [
    "from sklearn.neighbors import KNeighborsClassifier\n",
    "from sklearn.metrics import accuracy_score,confusion_matrix,classification_report"
   ]
  },
  {
   "cell_type": "code",
   "execution_count": 72,
   "metadata": {
    "id": "gdv4x8gpD_nZ"
   },
   "outputs": [],
   "source": [
    "def KNN_model(x_train,x_test,y_train,y_test):\n",
    "    knn=KNeighborsClassifier()\n",
    "    KNN=knn.fit(x_train,y_train)\n",
    "    predict_knn=KNN.predict(x_test)\n",
    "    training_accuracy=KNN.score(x_train,y_train)\n",
    "    testing_accuracy=KNN.score(x_test,y_test)\n",
    "    print(\"*** KNeighborsClassifier ***\")\n",
    "    print(\"Training Accuracy : \",training_accuracy)\n",
    "    print(\"Testing Accuracy : \",testing_accuracy)\n",
    "    print(\"Accuracy Score : \",accuracy_score(y_test,predict_knn))\n",
    "    print(\"** Confusion Matrix **\")\n",
    "    print(confusion_matrix(y_test,predict_knn))\n",
    "    print(\"** Classification Report **\")\n",
    "    print(classification_report(y_test,predict_knn))"
   ]
  },
  {
   "cell_type": "code",
   "execution_count": 73,
   "metadata": {
    "colab": {
     "base_uri": "https://localhost:8080/"
    },
    "id": "u1N3gaGbj3Br",
    "outputId": "cc0c7dcf-8f63-467e-f8cc-de84471b3ba4"
   },
   "outputs": [
    {
     "name": "stdout",
     "output_type": "stream",
     "text": [
      "*** KNeighborsClassifier ***\n",
      "Training Accuracy :  0.9886247391464462\n",
      "Testing Accuracy :  0.9811320754716981\n",
      "Accuracy Score :  0.9811320754716981\n",
      "** Confusion Matrix **\n",
      "[[5956  154]\n",
      " [   1 2104]]\n",
      "** Classification Report **\n",
      "              precision    recall  f1-score   support\n",
      "\n",
      "           0       1.00      0.97      0.99      6110\n",
      "           1       0.93      1.00      0.96      2105\n",
      "\n",
      "    accuracy                           0.98      8215\n",
      "   macro avg       0.97      0.99      0.98      8215\n",
      "weighted avg       0.98      0.98      0.98      8215\n",
      "\n"
     ]
    }
   ],
   "source": [
    "KNN_model(x_train,x_test,y_train,y_test)"
   ]
  },
  {
   "cell_type": "markdown",
   "metadata": {
    "id": "Y1WkVrOrj3_n"
   },
   "source": [
    "**Logistic Regression**"
   ]
  },
  {
   "cell_type": "code",
   "execution_count": 74,
   "metadata": {
    "id": "J2MMb6skkOkj"
   },
   "outputs": [],
   "source": [
    "from sklearn.linear_model import LogisticRegression"
   ]
  },
  {
   "cell_type": "code",
   "execution_count": 75,
   "metadata": {
    "id": "sD49ZIj3jm8a"
   },
   "outputs": [],
   "source": [
    "def Logistic(x_train,x_test,y_train,y_test):\n",
    "    lgr=LogisticRegression()\n",
    "    logistic=lgr.fit(x_train,y_train)\n",
    "    predict_logistic=logistic.predict(x_test)\n",
    "    training_accuracy=logistic.score(x_train,y_train)\n",
    "    testing_accuracy=logistic.score(x_test,y_test)\n",
    "    print(\"*** Logistic Regression ***\")\n",
    "    print(\"Training Accuracy : \",training_accuracy)\n",
    "    print(\"Testing Accuracy : \",testing_accuracy)\n",
    "    print(\"Accuracy Score : \",accuracy_score(y_test,predict_logistic))\n",
    "    print(\"** Confusion Matrix **\")\n",
    "    print(confusion_matrix(y_test,predict_logistic))\n",
    "    print(\"** Classification Report **\")\n",
    "    print(classification_report(y_test,predict_logistic))"
   ]
  },
  {
   "cell_type": "code",
   "execution_count": 76,
   "metadata": {
    "colab": {
     "base_uri": "https://localhost:8080/"
    },
    "id": "3j2be-US5SOh",
    "outputId": "2cc769af-8d33-44db-e4e4-12a61f54dc32"
   },
   "outputs": [
    {
     "name": "stdout",
     "output_type": "stream",
     "text": [
      "*** Logistic Regression ***\n",
      "Training Accuracy :  0.988993002987029\n",
      "Testing Accuracy :  0.9821059038344492\n",
      "Accuracy Score :  0.9821059038344492\n",
      "** Confusion Matrix **\n",
      "[[5964  146]\n",
      " [   1 2104]]\n",
      "** Classification Report **\n",
      "              precision    recall  f1-score   support\n",
      "\n",
      "           0       1.00      0.98      0.99      6110\n",
      "           1       0.94      1.00      0.97      2105\n",
      "\n",
      "    accuracy                           0.98      8215\n",
      "   macro avg       0.97      0.99      0.98      8215\n",
      "weighted avg       0.98      0.98      0.98      8215\n",
      "\n"
     ]
    }
   ],
   "source": [
    "Logistic(x_train,x_test,y_train,y_test)"
   ]
  },
  {
   "cell_type": "markdown",
   "metadata": {
    "id": "6W10wfQYl-Fm"
   },
   "source": [
    "**Random** **Forest**"
   ]
  },
  {
   "cell_type": "code",
   "execution_count": 77,
   "metadata": {
    "id": "3OzApmD2l8lA"
   },
   "outputs": [],
   "source": [
    "from sklearn.ensemble import RandomForestClassifier\n",
    "rdf=RandomForestClassifier()"
   ]
  },
  {
   "cell_type": "code",
   "execution_count": 78,
   "metadata": {
    "id": "pQ8r7X_5mMlQ"
   },
   "outputs": [],
   "source": [
    "def Random_Forest(x_train,x_test,y_train,y_test):\n",
    "    rdf=RandomForestClassifier()\n",
    "    random=rdf.fit(x_train,y_train)\n",
    "    predict_random=random.predict(x_test)\n",
    "    training_accuracy=random.score(x_train,y_train)\n",
    "    testing_accuracy=random.score(x_test,y_test)\n",
    "    print(\"*** Random Forest ***\")\n",
    "    print(\"Training Accuracy : \",training_accuracy)\n",
    "    print(\"Testing Accuracy : \",testing_accuracy)\n",
    "    print(\"Accuracy Score : \",accuracy_score(y_test, predict_random))\n",
    "    print(\"** Confusion Matrix **\")\n",
    "    print(confusion_matrix(y_test, predict_random))\n",
    "    print(\"** Classification Report **\")\n",
    "    print(classification_report(y_test, predict_random))"
   ]
  },
  {
   "cell_type": "code",
   "execution_count": 79,
   "metadata": {
    "colab": {
     "base_uri": "https://localhost:8080/"
    },
    "id": "waShtrhT5iHC",
    "outputId": "d31a4da9-a4ba-4fab-c032-856fcfde879b"
   },
   "outputs": [
    {
     "name": "stdout",
     "output_type": "stream",
     "text": [
      "*** Random Forest ***\n",
      "Training Accuracy :  1.0\n",
      "Testing Accuracy :  0.9825928180158248\n",
      "Accuracy Score :  0.9825928180158248\n",
      "** Confusion Matrix **\n",
      "[[5967  143]\n",
      " [   0 2105]]\n",
      "** Classification Report **\n",
      "              precision    recall  f1-score   support\n",
      "\n",
      "           0       1.00      0.98      0.99      6110\n",
      "           1       0.94      1.00      0.97      2105\n",
      "\n",
      "    accuracy                           0.98      8215\n",
      "   macro avg       0.97      0.99      0.98      8215\n",
      "weighted avg       0.98      0.98      0.98      8215\n",
      "\n"
     ]
    }
   ],
   "source": [
    "Random_Forest(x_train,x_test,y_train,y_test)"
   ]
  },
  {
   "cell_type": "code",
   "execution_count": null,
   "metadata": {
    "id": "GsVQpaAeZjMW"
   },
   "outputs": [],
   "source": []
  },
  {
   "cell_type": "markdown",
   "metadata": {
    "id": "fO9sp2NlZjq1"
   },
   "source": [
    "**Cross Validation**"
   ]
  },
  {
   "cell_type": "code",
   "execution_count": 89,
   "metadata": {
    "colab": {
     "base_uri": "https://localhost:8080/"
    },
    "id": "hbArijwzZqhM",
    "outputId": "f38216ab-20be-4566-df82-c48317ecf93e"
   },
   "outputs": [
    {
     "data": {
      "text/plain": [
       "0.9892794340510721"
      ]
     },
     "execution_count": 89,
     "metadata": {},
     "output_type": "execute_result"
    }
   ],
   "source": [
    "from sklearn.model_selection import cross_val_score\n",
    "cv=cross_val_score(random,x_train,y_train,cv=11)\n",
    "np.mean(cv)"
   ]
  },
  {
   "cell_type": "code",
   "execution_count": null,
   "metadata": {
    "id": "kMMXnZp7ZrzG"
   },
   "outputs": [],
   "source": []
  },
  {
   "cell_type": "code",
   "execution_count": null,
   "metadata": {
    "id": "dsz5ArEWZr7j"
   },
   "outputs": [],
   "source": []
  },
  {
   "cell_type": "code",
   "execution_count": null,
   "metadata": {
    "id": "s_y2jTfxZsHK"
   },
   "outputs": [],
   "source": []
  },
  {
   "cell_type": "markdown",
   "metadata": {
    "id": "SvdeJDqlKnzO"
   },
   "source": [
    "### Hyper Tuning \n",
    "#### Random Forest"
   ]
  },
  {
   "cell_type": "code",
   "execution_count": 80,
   "metadata": {
    "id": "86wvk1LBKnzP"
   },
   "outputs": [],
   "source": [
    "from sklearn.model_selection import RandomizedSearchCV"
   ]
  },
  {
   "cell_type": "code",
   "execution_count": 81,
   "metadata": {
    "colab": {
     "base_uri": "https://localhost:8080/"
    },
    "id": "2Qp9X2DAKnzQ",
    "outputId": "4a797fde-878c-4db9-efd3-86a919d1f013"
   },
   "outputs": [
    {
     "name": "stdout",
     "output_type": "stream",
     "text": [
      "{'n_estimators': [100, 111, 122, 133, 144, 155, 166, 177, 188, 200], 'max_features': ['auto', 'sqrt', 'log2'], 'max_depth': [10, 64, 118, 173, 227, 282, 336, 391, 445, 500], 'min_samples_split': [2, 5, 10, 14], 'min_samples_leaf': [1, 2, 4, 6, 8], 'criterion': ['entropy', 'gini']}\n"
     ]
    }
   ],
   "source": [
    "n_estimators = [int(x) for x in np.linspace(start = 100, stop = 200, num = 10)]\n",
    "max_features = ['auto', 'sqrt','log2']\n",
    "max_depth = [int(x) for x in np.linspace(10, 500,10)]\n",
    "min_samples_split = [2, 5, 10,14]\n",
    "min_samples_leaf = [1, 2, 4,6,8]\n",
    "random_cv = {'n_estimators': n_estimators,\n",
    "               'max_features': max_features,\n",
    "               'max_depth': max_depth,\n",
    "               'min_samples_split': min_samples_split,\n",
    "               'min_samples_leaf': min_samples_leaf,\n",
    "              'criterion':['entropy','gini']}\n",
    "print(random_cv)"
   ]
  },
  {
   "cell_type": "code",
   "execution_count": 82,
   "metadata": {
    "id": "cwJh-CH5KnzQ"
   },
   "outputs": [],
   "source": [
    "rf=RandomForestClassifier()\n",
    "randomcv_rf=RandomizedSearchCV(estimator=rf,param_distributions=random_cv,n_iter=100,cv=3)"
   ]
  },
  {
   "cell_type": "code",
   "execution_count": 83,
   "metadata": {
    "colab": {
     "base_uri": "https://localhost:8080/",
     "height": 118
    },
    "id": "F0HZfeq8KnzR",
    "outputId": "2e533284-4cbd-4686-f988-a8aee73374f7"
   },
   "outputs": [
    {
     "data": {
      "text/html": [
       "<style>#sk-container-id-1 {color: black;background-color: white;}#sk-container-id-1 pre{padding: 0;}#sk-container-id-1 div.sk-toggleable {background-color: white;}#sk-container-id-1 label.sk-toggleable__label {cursor: pointer;display: block;width: 100%;margin-bottom: 0;padding: 0.3em;box-sizing: border-box;text-align: center;}#sk-container-id-1 label.sk-toggleable__label-arrow:before {content: \"▸\";float: left;margin-right: 0.25em;color: #696969;}#sk-container-id-1 label.sk-toggleable__label-arrow:hover:before {color: black;}#sk-container-id-1 div.sk-estimator:hover label.sk-toggleable__label-arrow:before {color: black;}#sk-container-id-1 div.sk-toggleable__content {max-height: 0;max-width: 0;overflow: hidden;text-align: left;background-color: #f0f8ff;}#sk-container-id-1 div.sk-toggleable__content pre {margin: 0.2em;color: black;border-radius: 0.25em;background-color: #f0f8ff;}#sk-container-id-1 input.sk-toggleable__control:checked~div.sk-toggleable__content {max-height: 200px;max-width: 100%;overflow: auto;}#sk-container-id-1 input.sk-toggleable__control:checked~label.sk-toggleable__label-arrow:before {content: \"▾\";}#sk-container-id-1 div.sk-estimator input.sk-toggleable__control:checked~label.sk-toggleable__label {background-color: #d4ebff;}#sk-container-id-1 div.sk-label input.sk-toggleable__control:checked~label.sk-toggleable__label {background-color: #d4ebff;}#sk-container-id-1 input.sk-hidden--visually {border: 0;clip: rect(1px 1px 1px 1px);clip: rect(1px, 1px, 1px, 1px);height: 1px;margin: -1px;overflow: hidden;padding: 0;position: absolute;width: 1px;}#sk-container-id-1 div.sk-estimator {font-family: monospace;background-color: #f0f8ff;border: 1px dotted black;border-radius: 0.25em;box-sizing: border-box;margin-bottom: 0.5em;}#sk-container-id-1 div.sk-estimator:hover {background-color: #d4ebff;}#sk-container-id-1 div.sk-parallel-item::after {content: \"\";width: 100%;border-bottom: 1px solid gray;flex-grow: 1;}#sk-container-id-1 div.sk-label:hover label.sk-toggleable__label {background-color: #d4ebff;}#sk-container-id-1 div.sk-serial::before {content: \"\";position: absolute;border-left: 1px solid gray;box-sizing: border-box;top: 0;bottom: 0;left: 50%;z-index: 0;}#sk-container-id-1 div.sk-serial {display: flex;flex-direction: column;align-items: center;background-color: white;padding-right: 0.2em;padding-left: 0.2em;position: relative;}#sk-container-id-1 div.sk-item {position: relative;z-index: 1;}#sk-container-id-1 div.sk-parallel {display: flex;align-items: stretch;justify-content: center;background-color: white;position: relative;}#sk-container-id-1 div.sk-item::before, #sk-container-id-1 div.sk-parallel-item::before {content: \"\";position: absolute;border-left: 1px solid gray;box-sizing: border-box;top: 0;bottom: 0;left: 50%;z-index: -1;}#sk-container-id-1 div.sk-parallel-item {display: flex;flex-direction: column;z-index: 1;position: relative;background-color: white;}#sk-container-id-1 div.sk-parallel-item:first-child::after {align-self: flex-end;width: 50%;}#sk-container-id-1 div.sk-parallel-item:last-child::after {align-self: flex-start;width: 50%;}#sk-container-id-1 div.sk-parallel-item:only-child::after {width: 0;}#sk-container-id-1 div.sk-dashed-wrapped {border: 1px dashed gray;margin: 0 0.4em 0.5em 0.4em;box-sizing: border-box;padding-bottom: 0.4em;background-color: white;}#sk-container-id-1 div.sk-label label {font-family: monospace;font-weight: bold;display: inline-block;line-height: 1.2em;}#sk-container-id-1 div.sk-label-container {text-align: center;}#sk-container-id-1 div.sk-container {/* jupyter's `normalize.less` sets `[hidden] { display: none; }` but bootstrap.min.css set `[hidden] { display: none !important; }` so we also need the `!important` here to be able to override the default hidden behavior on the sphinx rendered scikit-learn.org. See: https://github.com/scikit-learn/scikit-learn/issues/21755 */display: inline-block !important;position: relative;}#sk-container-id-1 div.sk-text-repr-fallback {display: none;}</style><div id=\"sk-container-id-1\" class=\"sk-top-container\"><div class=\"sk-text-repr-fallback\"><pre>RandomizedSearchCV(cv=3, estimator=RandomForestClassifier(), n_iter=100,\n",
       "                   param_distributions={&#x27;criterion&#x27;: [&#x27;entropy&#x27;, &#x27;gini&#x27;],\n",
       "                                        &#x27;max_depth&#x27;: [10, 64, 118, 173, 227,\n",
       "                                                      282, 336, 391, 445, 500],\n",
       "                                        &#x27;max_features&#x27;: [&#x27;auto&#x27;, &#x27;sqrt&#x27;,\n",
       "                                                         &#x27;log2&#x27;],\n",
       "                                        &#x27;min_samples_leaf&#x27;: [1, 2, 4, 6, 8],\n",
       "                                        &#x27;min_samples_split&#x27;: [2, 5, 10, 14],\n",
       "                                        &#x27;n_estimators&#x27;: [100, 111, 122, 133,\n",
       "                                                         144, 155, 166, 177,\n",
       "                                                         188, 200]})</pre><b>In a Jupyter environment, please rerun this cell to show the HTML representation or trust the notebook. <br />On GitHub, the HTML representation is unable to render, please try loading this page with nbviewer.org.</b></div><div class=\"sk-container\" hidden><div class=\"sk-item sk-dashed-wrapped\"><div class=\"sk-label-container\"><div class=\"sk-label sk-toggleable\"><input class=\"sk-toggleable__control sk-hidden--visually\" id=\"sk-estimator-id-1\" type=\"checkbox\" ><label for=\"sk-estimator-id-1\" class=\"sk-toggleable__label sk-toggleable__label-arrow\">RandomizedSearchCV</label><div class=\"sk-toggleable__content\"><pre>RandomizedSearchCV(cv=3, estimator=RandomForestClassifier(), n_iter=100,\n",
       "                   param_distributions={&#x27;criterion&#x27;: [&#x27;entropy&#x27;, &#x27;gini&#x27;],\n",
       "                                        &#x27;max_depth&#x27;: [10, 64, 118, 173, 227,\n",
       "                                                      282, 336, 391, 445, 500],\n",
       "                                        &#x27;max_features&#x27;: [&#x27;auto&#x27;, &#x27;sqrt&#x27;,\n",
       "                                                         &#x27;log2&#x27;],\n",
       "                                        &#x27;min_samples_leaf&#x27;: [1, 2, 4, 6, 8],\n",
       "                                        &#x27;min_samples_split&#x27;: [2, 5, 10, 14],\n",
       "                                        &#x27;n_estimators&#x27;: [100, 111, 122, 133,\n",
       "                                                         144, 155, 166, 177,\n",
       "                                                         188, 200]})</pre></div></div></div><div class=\"sk-parallel\"><div class=\"sk-parallel-item\"><div class=\"sk-item\"><div class=\"sk-label-container\"><div class=\"sk-label sk-toggleable\"><input class=\"sk-toggleable__control sk-hidden--visually\" id=\"sk-estimator-id-2\" type=\"checkbox\" ><label for=\"sk-estimator-id-2\" class=\"sk-toggleable__label sk-toggleable__label-arrow\">estimator: RandomForestClassifier</label><div class=\"sk-toggleable__content\"><pre>RandomForestClassifier()</pre></div></div></div><div class=\"sk-serial\"><div class=\"sk-item\"><div class=\"sk-estimator sk-toggleable\"><input class=\"sk-toggleable__control sk-hidden--visually\" id=\"sk-estimator-id-3\" type=\"checkbox\" ><label for=\"sk-estimator-id-3\" class=\"sk-toggleable__label sk-toggleable__label-arrow\">RandomForestClassifier</label><div class=\"sk-toggleable__content\"><pre>RandomForestClassifier()</pre></div></div></div></div></div></div></div></div></div></div>"
      ],
      "text/plain": [
       "RandomizedSearchCV(cv=3, estimator=RandomForestClassifier(), n_iter=100,\n",
       "                   param_distributions={'criterion': ['entropy', 'gini'],\n",
       "                                        'max_depth': [10, 64, 118, 173, 227,\n",
       "                                                      282, 336, 391, 445, 500],\n",
       "                                        'max_features': ['auto', 'sqrt',\n",
       "                                                         'log2'],\n",
       "                                        'min_samples_leaf': [1, 2, 4, 6, 8],\n",
       "                                        'min_samples_split': [2, 5, 10, 14],\n",
       "                                        'n_estimators': [100, 111, 122, 133,\n",
       "                                                         144, 155, 166, 177,\n",
       "                                                         188, 200]})"
      ]
     },
     "execution_count": 83,
     "metadata": {},
     "output_type": "execute_result"
    }
   ],
   "source": [
    "randomcv_rf.fit(x_train,y_train)"
   ]
  },
  {
   "cell_type": "code",
   "execution_count": 84,
   "metadata": {
    "id": "xGu2sDmQKnzS"
   },
   "outputs": [],
   "source": [
    "best_random_cv=randomcv_rf.best_estimator_"
   ]
  },
  {
   "cell_type": "code",
   "execution_count": 85,
   "metadata": {
    "colab": {
     "base_uri": "https://localhost:8080/"
    },
    "id": "JLVbLomkKnzS",
    "outputId": "796d375a-28ae-4d1a-c393-43fc01e945ab"
   },
   "outputs": [
    {
     "name": "stdout",
     "output_type": "stream",
     "text": [
      "[[5967  143]\n",
      " [   0 2105]]\n",
      "Accuracy Score 0.9825928180158248\n",
      "Classification report:               precision    recall  f1-score   support\n",
      "\n",
      "           0       1.00      0.98      0.99      6110\n",
      "           1       0.94      1.00      0.97      2105\n",
      "\n",
      "    accuracy                           0.98      8215\n",
      "   macro avg       0.97      0.99      0.98      8215\n",
      "weighted avg       0.98      0.98      0.98      8215\n",
      "\n"
     ]
    }
   ],
   "source": [
    "y_pred=best_random_cv.predict(x_test)\n",
    "print(confusion_matrix(y_test,y_pred))\n",
    "print(\"Accuracy Score {}\".format(accuracy_score(y_test,y_pred)))\n",
    "print(\"Classification report: {}\".format(classification_report(y_test,y_pred)))"
   ]
  },
  {
   "cell_type": "markdown",
   "metadata": {
    "id": "0TZxgoAlm6_o"
   },
   "source": [
    "**Naive Bayes**"
   ]
  },
  {
   "cell_type": "code",
   "execution_count": 120,
   "metadata": {
    "id": "yZsCNV7pnCoF"
   },
   "outputs": [],
   "source": [
    "from sklearn.naive_bayes import GaussianNB"
   ]
  },
  {
   "cell_type": "code",
   "execution_count": 121,
   "metadata": {
    "id": "r8nl6e-7nGJ2"
   },
   "outputs": [],
   "source": [
    "def Naive_Bayes(x_train,x_test,y_train,y_test):\n",
    "    gnb=GaussianNB()\n",
    "    naive=gnb.fit(x_train,y_train)\n",
    "    predict_naive=naive.predict(x_test)\n",
    "    training_accuracy=naive.score(x_train,y_train)\n",
    "    testing_accuracy=naive.score(x_test,y_test)\n",
    "    print(\"*** Naive Bayes ***\")\n",
    "    print(\"Training Accuracy : \",training_accuracy)\n",
    "    print(\"Testing Accuracy : \",testing_accuracy)\n",
    "    print(\"Accuracy Score : \",accuracy_score(y_test, predict_naive))\n",
    "    print(\"** Confusion Matrix **\")\n",
    "    print(confusion_matrix(y_test, predict_naive))\n",
    "    print(\"** Classification Report **\")\n",
    "    print(classification_report(y_test, predict_naive))"
   ]
  },
  {
   "cell_type": "code",
   "execution_count": 122,
   "metadata": {
    "colab": {
     "base_uri": "https://localhost:8080/"
    },
    "id": "uZyco_Ma6Xvx",
    "outputId": "2f55096f-0abe-41be-8a37-f99eefeb8d6d"
   },
   "outputs": [
    {
     "name": "stdout",
     "output_type": "stream",
     "text": [
      "*** Naive Bayes ***\n",
      "Training Accuracy :  0.9883612273891011\n",
      "Testing Accuracy :  0.9822781937826186\n",
      "Accuracy Score :  0.9822781937826186\n",
      "** Confusion Matrix **\n",
      "[[32160   747]\n",
      " [   34 11129]]\n",
      "** Classification Report **\n",
      "              precision    recall  f1-score   support\n",
      "\n",
      "           0       1.00      0.98      0.99     32907\n",
      "           1       0.94      1.00      0.97     11163\n",
      "\n",
      "    accuracy                           0.98     44070\n",
      "   macro avg       0.97      0.99      0.98     44070\n",
      "weighted avg       0.98      0.98      0.98     44070\n",
      "\n"
     ]
    }
   ],
   "source": [
    "Naive_Bayes(x_train,x_test,y_train,y_test)"
   ]
  },
  {
   "cell_type": "markdown",
   "metadata": {
    "id": "wp8uj-FGnqsN"
   },
   "source": [
    "**XG Boost**"
   ]
  },
  {
   "cell_type": "code",
   "execution_count": 123,
   "metadata": {
    "colab": {
     "base_uri": "https://localhost:8080/"
    },
    "id": "qhoXIRhGKnzV",
    "outputId": "24361b85-b005-4292-c796-eb1c14966492"
   },
   "outputs": [
    {
     "name": "stdout",
     "output_type": "stream",
     "text": [
      "Looking in indexes: https://pypi.org/simple, https://us-python.pkg.dev/colab-wheels/public/simple/\n",
      "Requirement already satisfied: xgboost in /usr/local/lib/python3.9/dist-packages (1.7.4)\n",
      "Requirement already satisfied: numpy in /usr/local/lib/python3.9/dist-packages (from xgboost) (1.22.4)\n",
      "Requirement already satisfied: scipy in /usr/local/lib/python3.9/dist-packages (from xgboost) (1.10.1)\n"
     ]
    }
   ],
   "source": [
    "pip install xgboost"
   ]
  },
  {
   "cell_type": "code",
   "execution_count": 124,
   "metadata": {
    "id": "HNDBK3qunt5P"
   },
   "outputs": [],
   "source": [
    "from xgboost import XGBClassifier"
   ]
  },
  {
   "cell_type": "code",
   "execution_count": 125,
   "metadata": {
    "id": "SGXF_wdFnvDb"
   },
   "outputs": [],
   "source": [
    "def xgboost(x_train,x_test,y_train,y_test):\n",
    "    xgb=XGBClassifier()\n",
    "    XGB=xgb.fit(x_train,y_train)\n",
    "    predict_XGB=XGB.predict(x_test)\n",
    "    training_accuracy=XGB.score(x_train,y_train)\n",
    "    testing_accuracy=XGB.score(x_test,y_test)\n",
    "    print(\"*** XGBoost ***\")\n",
    "    print(\"Training Accuracy : \",training_accuracy)\n",
    "    print(\"Testing Accuracy : \",testing_accuracy)\n",
    "    print(\"Accuracy Score : \",accuracy_score(y_test, predict_XGB))\n",
    "    print(\"** Confusion Matrix **\")\n",
    "    print(confusion_matrix(y_test, predict_XGB))\n",
    "    print(\"** Classification Report **\")\n",
    "    print(classification_report(y_test, predict_XGB))"
   ]
  },
  {
   "cell_type": "code",
   "execution_count": 126,
   "metadata": {
    "colab": {
     "base_uri": "https://localhost:8080/"
    },
    "id": "C8Tyf_Pl7-Yh",
    "outputId": "4e21ee48-d712-4419-9005-39a6c4c6f821"
   },
   "outputs": [
    {
     "name": "stdout",
     "output_type": "stream",
     "text": [
      "*** XGBoost ***\n",
      "Training Accuracy :  0.9894704054577639\n",
      "Testing Accuracy :  0.9834581347855684\n",
      "Accuracy Score :  0.9834581347855684\n",
      "** Confusion Matrix **\n",
      "[[32181   726]\n",
      " [    3 11160]]\n",
      "** Classification Report **\n",
      "              precision    recall  f1-score   support\n",
      "\n",
      "           0       1.00      0.98      0.99     32907\n",
      "           1       0.94      1.00      0.97     11163\n",
      "\n",
      "    accuracy                           0.98     44070\n",
      "   macro avg       0.97      0.99      0.98     44070\n",
      "weighted avg       0.98      0.98      0.98     44070\n",
      "\n"
     ]
    }
   ],
   "source": [
    "xgboost(x_train,x_test,y_train,y_test)"
   ]
  },
  {
   "cell_type": "markdown",
   "metadata": {
    "id": "oMe1RTI68dWU"
   },
   "source": [
    "### **Model Comparison**"
   ]
  },
  {
   "cell_type": "code",
   "execution_count": 127,
   "metadata": {
    "id": "HoIXPQab8ci0"
   },
   "outputs": [],
   "source": [
    "def comparison(x_train,x_test,y_train,y_test):\n",
    "    KNN_model(x_train,x_test,y_train,y_test)\n",
    "    print('-'*100)\n",
    "    Logistic(x_train,x_test,y_train,y_test)\n",
    "    print('-'*100)\n",
    "    Random_Forest(x_train,x_test,y_train,y_test)\n",
    "    print('-'*100)\n",
    "    Naive_Bayes(x_train,x_test,y_train,y_test)\n",
    "    print('-'*100)\n",
    "    xgboost(x_train,x_test,y_train,y_test)"
   ]
  },
  {
   "cell_type": "code",
   "execution_count": 128,
   "metadata": {
    "colab": {
     "base_uri": "https://localhost:8080/"
    },
    "id": "Yu12ytVm9165",
    "outputId": "a29f2d29-d5fc-4197-87e7-e74291ba2702"
   },
   "outputs": [
    {
     "name": "stdout",
     "output_type": "stream",
     "text": [
      "*** KNeighborsClassifier ***\n",
      "Training Accuracy :  0.9890411687394115\n",
      "Testing Accuracy :  0.9826866348990243\n",
      "Accuracy Score :  0.9826866348990243\n",
      "** Confusion Matrix **\n",
      "[[32155   752]\n",
      " [   11 11152]]\n",
      "** Classification Report **\n",
      "              precision    recall  f1-score   support\n",
      "\n",
      "           0       1.00      0.98      0.99     32907\n",
      "           1       0.94      1.00      0.97     11163\n",
      "\n",
      "    accuracy                           0.98     44070\n",
      "   macro avg       0.97      0.99      0.98     44070\n",
      "weighted avg       0.98      0.98      0.98     44070\n",
      "\n",
      "----------------------------------------------------------------------------------------------------\n",
      "*** Logistic Regression ***\n",
      "Training Accuracy :  0.9890829528447379\n",
      "Testing Accuracy :  0.9833219877467665\n",
      "Accuracy Score :  0.9833219877467665\n",
      "** Confusion Matrix **\n",
      "[[32174   733]\n",
      " [    2 11161]]\n",
      "** Classification Report **\n",
      "              precision    recall  f1-score   support\n",
      "\n",
      "           0       1.00      0.98      0.99     32907\n",
      "           1       0.94      1.00      0.97     11163\n",
      "\n",
      "    accuracy                           0.98     44070\n",
      "   macro avg       0.97      0.99      0.98     44070\n",
      "weighted avg       0.98      0.98      0.98     44070\n",
      "\n",
      "----------------------------------------------------------------------------------------------------\n",
      "*** Random Forest ***\n",
      "Training Accuracy :  0.9999962014449704\n",
      "Testing Accuracy :  0.9835262083049694\n",
      "Accuracy Score :  0.9835262083049694\n",
      "** Confusion Matrix **\n",
      "[[32181   726]\n",
      " [    0 11163]]\n",
      "** Classification Report **\n",
      "              precision    recall  f1-score   support\n",
      "\n",
      "           0       1.00      0.98      0.99     32907\n",
      "           1       0.94      1.00      0.97     11163\n",
      "\n",
      "    accuracy                           0.98     44070\n",
      "   macro avg       0.97      0.99      0.98     44070\n",
      "weighted avg       0.98      0.98      0.98     44070\n",
      "\n",
      "----------------------------------------------------------------------------------------------------\n",
      "*** Naive Bayes ***\n",
      "Training Accuracy :  0.9883612273891011\n",
      "Testing Accuracy :  0.9822781937826186\n",
      "Accuracy Score :  0.9822781937826186\n",
      "** Confusion Matrix **\n",
      "[[32160   747]\n",
      " [   34 11129]]\n",
      "** Classification Report **\n",
      "              precision    recall  f1-score   support\n",
      "\n",
      "           0       1.00      0.98      0.99     32907\n",
      "           1       0.94      1.00      0.97     11163\n",
      "\n",
      "    accuracy                           0.98     44070\n",
      "   macro avg       0.97      0.99      0.98     44070\n",
      "weighted avg       0.98      0.98      0.98     44070\n",
      "\n",
      "----------------------------------------------------------------------------------------------------\n",
      "*** XGBoost ***\n",
      "Training Accuracy :  0.9894704054577639\n",
      "Testing Accuracy :  0.9834581347855684\n",
      "Accuracy Score :  0.9834581347855684\n",
      "** Confusion Matrix **\n",
      "[[32181   726]\n",
      " [    3 11160]]\n",
      "** Classification Report **\n",
      "              precision    recall  f1-score   support\n",
      "\n",
      "           0       1.00      0.98      0.99     32907\n",
      "           1       0.94      1.00      0.97     11163\n",
      "\n",
      "    accuracy                           0.98     44070\n",
      "   macro avg       0.97      0.99      0.98     44070\n",
      "weighted avg       0.98      0.98      0.98     44070\n",
      "\n"
     ]
    }
   ],
   "source": [
    "comparison(x_train,x_test,y_train,y_test)"
   ]
  },
  {
   "cell_type": "code",
   "execution_count": 128,
   "metadata": {
    "id": "9piuuGyUA2VO"
   },
   "outputs": [],
   "source": []
  },
  {
   "cell_type": "code",
   "execution_count": 88,
   "metadata": {
    "colab": {
     "base_uri": "https://localhost:8080/"
    },
    "id": "gRGixzjtUqtZ",
    "outputId": "ee93f5f3-b61f-4cdb-af53-79d4b665285d"
   },
   "outputs": [
    {
     "name": "stdout",
     "output_type": "stream",
     "text": [
      "*** Random Forest ***\n",
      "Accuracy Score :  0.9825928180158248\n",
      "** Confusion Matrix **\n",
      "[[5967  143]\n",
      " [   0 2105]]\n",
      "** Classification Report **\n",
      "              precision    recall  f1-score   support\n",
      "\n",
      "           0       1.00      0.98      0.99      6110\n",
      "           1       0.94      1.00      0.97      2105\n",
      "\n",
      "    accuracy                           0.98      8215\n",
      "   macro avg       0.97      0.99      0.98      8215\n",
      "weighted avg       0.98      0.98      0.98      8215\n",
      "\n"
     ]
    }
   ],
   "source": [
    "rdf=RandomForestClassifier()\n",
    "random=rdf.fit(x_train,y_train)\n",
    "predict_random=random.predict(x_test)\n",
    "print(\"*** Random Forest ***\")\n",
    "print(\"Accuracy Score : \",accuracy_score(y_test, predict_random))\n",
    "print(\"** Confusion Matrix **\")\n",
    "print(confusion_matrix(y_test, predict_random))\n",
    "print(\"** Classification Report **\")\n",
    "print(classification_report(y_test, predict_random))"
   ]
  },
  {
   "cell_type": "markdown",
   "metadata": {
    "id": "0RZi6NP0U8h8"
   },
   "source": [
    "**Testing**"
   ]
  },
  {
   "cell_type": "code",
   "execution_count": null,
   "metadata": {
    "id": "vUGFzZZfVAeA"
   },
   "outputs": [],
   "source": [
    "random.predict([[0.554958, -0.724663,\t1.173023,\t1.104255,\t1.017640,\t-0.920041,\t1.261972,\t-0.045856,\t-1.638298,\t-0.343100,\t1.559029,\t1.347591]])"
   ]
  },
  {
   "cell_type": "markdown",
   "metadata": {
    "id": "ln2zunroYDjG"
   },
   "source": [
    "**Saving the Model**"
   ]
  },
  {
   "cell_type": "code",
   "execution_count": null,
   "metadata": {
    "id": "6UAyLeJ5T61t"
   },
   "outputs": [],
   "source": [
    "import pickle"
   ]
  },
  {
   "cell_type": "code",
   "execution_count": null,
   "metadata": {
    "id": "nT7dXlJ-W-W3"
   },
   "outputs": [],
   "source": [
    "with open('/content/drive/MyDrive/Colab Notebooks/The Smartbridge/Projects/Bot_model.pkl', 'wb') as file:\n",
    "    pickle.dump(random, file)"
   ]
  },
  {
   "cell_type": "code",
   "execution_count": null,
   "metadata": {
    "id": "gJ-PF4ofXnW2"
   },
   "outputs": [],
   "source": []
  }
 ],
 "metadata": {
  "accelerator": "GPU",
  "colab": {
   "provenance": []
  },
  "gpuClass": "standard",
  "kernelspec": {
   "display_name": "Python 3 (ipykernel)",
   "language": "python",
   "name": "python3"
  },
  "language_info": {
   "codemirror_mode": {
    "name": "ipython",
    "version": 3
   },
   "file_extension": ".py",
   "mimetype": "text/x-python",
   "name": "python",
   "nbconvert_exporter": "python",
   "pygments_lexer": "ipython3",
   "version": "3.9.12"
  }
 },
 "nbformat": 4,
 "nbformat_minor": 1
}
